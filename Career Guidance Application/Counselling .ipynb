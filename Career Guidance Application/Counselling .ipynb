{
 "cells": [
  {
   "cell_type": "markdown",
   "id": "5ea16d3c",
   "metadata": {},
   "source": [
    "# Import libraries"
   ]
  },
  {
   "cell_type": "code",
   "execution_count": 123,
   "id": "1fdd586e",
   "metadata": {},
   "outputs": [],
   "source": [
    "import pandas as pd\n",
    "import numpy as np\n",
    "import seaborn as sb\n",
    "import matplotlib.pyplot as plt"
   ]
  },
  {
   "cell_type": "markdown",
   "id": "09aed0db",
   "metadata": {},
   "source": [
    "# Import data"
   ]
  },
  {
   "cell_type": "code",
   "execution_count": 124,
   "id": "e8bf391c",
   "metadata": {},
   "outputs": [],
   "source": [
    "dat = pd.read_csv('C:/Users/vishn/OneDrive/Desktop/pro int/counselling.csv')"
   ]
  },
  {
   "cell_type": "markdown",
   "id": "2686392d",
   "metadata": {},
   "source": [
    "# Pre- processing"
   ]
  },
  {
   "cell_type": "code",
   "execution_count": 125,
   "id": "1d734b6e",
   "metadata": {},
   "outputs": [
    {
     "data": {
      "text/plain": [
       "Rank           0\n",
       "Nationality    0\n",
       "10th           0\n",
       "12th           0\n",
       "Gender         0\n",
       "Department     0\n",
       "dtype: int64"
      ]
     },
     "execution_count": 125,
     "metadata": {},
     "output_type": "execute_result"
    }
   ],
   "source": [
    "dat.isnull().sum()"
   ]
  },
  {
   "cell_type": "code",
   "execution_count": 126,
   "id": "1899ca3a",
   "metadata": {},
   "outputs": [
    {
     "data": {
      "text/plain": [
       "Rank           0\n",
       "Nationality    0\n",
       "10th           0\n",
       "12th           0\n",
       "Gender         0\n",
       "Department     0\n",
       "dtype: int64"
      ]
     },
     "execution_count": 126,
     "metadata": {},
     "output_type": "execute_result"
    }
   ],
   "source": [
    "dat.isna().sum()"
   ]
  },
  {
   "cell_type": "code",
   "execution_count": 127,
   "id": "e0a8067e",
   "metadata": {},
   "outputs": [],
   "source": [
    "dat=dat.dropna()"
   ]
  },
  {
   "cell_type": "code",
   "execution_count": 128,
   "id": "adf8bd87",
   "metadata": {},
   "outputs": [
    {
     "data": {
      "text/html": [
       "<div>\n",
       "<style scoped>\n",
       "    .dataframe tbody tr th:only-of-type {\n",
       "        vertical-align: middle;\n",
       "    }\n",
       "\n",
       "    .dataframe tbody tr th {\n",
       "        vertical-align: top;\n",
       "    }\n",
       "\n",
       "    .dataframe thead th {\n",
       "        text-align: right;\n",
       "    }\n",
       "</style>\n",
       "<table border=\"1\" class=\"dataframe\">\n",
       "  <thead>\n",
       "    <tr style=\"text-align: right;\">\n",
       "      <th></th>\n",
       "      <th>Rank</th>\n",
       "      <th>Nationality</th>\n",
       "      <th>10th</th>\n",
       "      <th>12th</th>\n",
       "      <th>Gender</th>\n",
       "      <th>Department</th>\n",
       "    </tr>\n",
       "  </thead>\n",
       "  <tbody>\n",
       "    <tr>\n",
       "      <th>0</th>\n",
       "      <td>1595</td>\n",
       "      <td>India</td>\n",
       "      <td>85</td>\n",
       "      <td>94</td>\n",
       "      <td>F</td>\n",
       "      <td>[CS,Civil,Mech,Electronics,Electrical]</td>\n",
       "    </tr>\n",
       "    <tr>\n",
       "      <th>1</th>\n",
       "      <td>11564</td>\n",
       "      <td>India</td>\n",
       "      <td>84</td>\n",
       "      <td>53</td>\n",
       "      <td>F</td>\n",
       "      <td>[Not Eligible]</td>\n",
       "    </tr>\n",
       "    <tr>\n",
       "      <th>2</th>\n",
       "      <td>4769</td>\n",
       "      <td>India</td>\n",
       "      <td>84</td>\n",
       "      <td>47</td>\n",
       "      <td>M</td>\n",
       "      <td>[Not Eligible]</td>\n",
       "    </tr>\n",
       "    <tr>\n",
       "      <th>3</th>\n",
       "      <td>7669</td>\n",
       "      <td>India</td>\n",
       "      <td>89</td>\n",
       "      <td>92</td>\n",
       "      <td>F</td>\n",
       "      <td>[Civil,Mech,Electronics,Electrical]</td>\n",
       "    </tr>\n",
       "    <tr>\n",
       "      <th>4</th>\n",
       "      <td>6479</td>\n",
       "      <td>India</td>\n",
       "      <td>76</td>\n",
       "      <td>90</td>\n",
       "      <td>F</td>\n",
       "      <td>[Civil,Mech,Electronics,Electrical]</td>\n",
       "    </tr>\n",
       "    <tr>\n",
       "      <th>...</th>\n",
       "      <td>...</td>\n",
       "      <td>...</td>\n",
       "      <td>...</td>\n",
       "      <td>...</td>\n",
       "      <td>...</td>\n",
       "      <td>...</td>\n",
       "    </tr>\n",
       "    <tr>\n",
       "      <th>694</th>\n",
       "      <td>12785</td>\n",
       "      <td>India</td>\n",
       "      <td>88</td>\n",
       "      <td>79</td>\n",
       "      <td>M</td>\n",
       "      <td>[CS,Civil,Mech,Electronics,Electrical]</td>\n",
       "    </tr>\n",
       "    <tr>\n",
       "      <th>695</th>\n",
       "      <td>12025</td>\n",
       "      <td>Nepal</td>\n",
       "      <td>91</td>\n",
       "      <td>60</td>\n",
       "      <td>M</td>\n",
       "      <td>[Not Eligible]</td>\n",
       "    </tr>\n",
       "    <tr>\n",
       "      <th>696</th>\n",
       "      <td>12308</td>\n",
       "      <td>Nepal</td>\n",
       "      <td>92</td>\n",
       "      <td>77</td>\n",
       "      <td>M</td>\n",
       "      <td>[Civil]</td>\n",
       "    </tr>\n",
       "    <tr>\n",
       "      <th>697</th>\n",
       "      <td>12631</td>\n",
       "      <td>Ethiopia</td>\n",
       "      <td>87</td>\n",
       "      <td>77</td>\n",
       "      <td>F</td>\n",
       "      <td>[Not Eligible]</td>\n",
       "    </tr>\n",
       "    <tr>\n",
       "      <th>698</th>\n",
       "      <td>14276</td>\n",
       "      <td>Nepal</td>\n",
       "      <td>87</td>\n",
       "      <td>66</td>\n",
       "      <td>M</td>\n",
       "      <td>[Civil]</td>\n",
       "    </tr>\n",
       "  </tbody>\n",
       "</table>\n",
       "<p>699 rows × 6 columns</p>\n",
       "</div>"
      ],
      "text/plain": [
       "      Rank Nationality  10th  12th Gender  \\\n",
       "0     1595       India    85    94      F   \n",
       "1    11564       India    84    53      F   \n",
       "2     4769       India    84    47      M   \n",
       "3     7669       India    89    92      F   \n",
       "4     6479       India    76    90      F   \n",
       "..     ...         ...   ...   ...    ...   \n",
       "694  12785       India    88    79      M   \n",
       "695  12025       Nepal    91    60      M   \n",
       "696  12308       Nepal    92    77      M   \n",
       "697  12631    Ethiopia    87    77      F   \n",
       "698  14276       Nepal    87    66      M   \n",
       "\n",
       "                                 Department  \n",
       "0    [CS,Civil,Mech,Electronics,Electrical]  \n",
       "1                            [Not Eligible]  \n",
       "2                            [Not Eligible]  \n",
       "3       [Civil,Mech,Electronics,Electrical]  \n",
       "4       [Civil,Mech,Electronics,Electrical]  \n",
       "..                                      ...  \n",
       "694  [CS,Civil,Mech,Electronics,Electrical]  \n",
       "695                          [Not Eligible]  \n",
       "696                                 [Civil]  \n",
       "697                          [Not Eligible]  \n",
       "698                                 [Civil]  \n",
       "\n",
       "[699 rows x 6 columns]"
      ]
     },
     "execution_count": 128,
     "metadata": {},
     "output_type": "execute_result"
    }
   ],
   "source": [
    "dat"
   ]
  },
  {
   "cell_type": "code",
   "execution_count": 129,
   "id": "254ced51",
   "metadata": {},
   "outputs": [
    {
     "data": {
      "text/html": [
       "<div>\n",
       "<style scoped>\n",
       "    .dataframe tbody tr th:only-of-type {\n",
       "        vertical-align: middle;\n",
       "    }\n",
       "\n",
       "    .dataframe tbody tr th {\n",
       "        vertical-align: top;\n",
       "    }\n",
       "\n",
       "    .dataframe thead th {\n",
       "        text-align: right;\n",
       "    }\n",
       "</style>\n",
       "<table border=\"1\" class=\"dataframe\">\n",
       "  <thead>\n",
       "    <tr style=\"text-align: right;\">\n",
       "      <th></th>\n",
       "      <th>Rank</th>\n",
       "      <th>Nationality</th>\n",
       "      <th>10th</th>\n",
       "      <th>12th</th>\n",
       "      <th>Gender</th>\n",
       "      <th>Department</th>\n",
       "    </tr>\n",
       "  </thead>\n",
       "  <tbody>\n",
       "    <tr>\n",
       "      <th>0</th>\n",
       "      <td>1595</td>\n",
       "      <td>India</td>\n",
       "      <td>85</td>\n",
       "      <td>94</td>\n",
       "      <td>F</td>\n",
       "      <td>[CS,Civil,Mech,Electronics,Electrical]</td>\n",
       "    </tr>\n",
       "    <tr>\n",
       "      <th>1</th>\n",
       "      <td>11564</td>\n",
       "      <td>India</td>\n",
       "      <td>84</td>\n",
       "      <td>53</td>\n",
       "      <td>F</td>\n",
       "      <td>[Not Eligible]</td>\n",
       "    </tr>\n",
       "    <tr>\n",
       "      <th>2</th>\n",
       "      <td>4769</td>\n",
       "      <td>India</td>\n",
       "      <td>84</td>\n",
       "      <td>47</td>\n",
       "      <td>M</td>\n",
       "      <td>[Not Eligible]</td>\n",
       "    </tr>\n",
       "    <tr>\n",
       "      <th>3</th>\n",
       "      <td>7669</td>\n",
       "      <td>India</td>\n",
       "      <td>89</td>\n",
       "      <td>92</td>\n",
       "      <td>F</td>\n",
       "      <td>[Civil,Mech,Electronics,Electrical]</td>\n",
       "    </tr>\n",
       "    <tr>\n",
       "      <th>4</th>\n",
       "      <td>6479</td>\n",
       "      <td>India</td>\n",
       "      <td>76</td>\n",
       "      <td>90</td>\n",
       "      <td>F</td>\n",
       "      <td>[Civil,Mech,Electronics,Electrical]</td>\n",
       "    </tr>\n",
       "  </tbody>\n",
       "</table>\n",
       "</div>"
      ],
      "text/plain": [
       "    Rank Nationality  10th  12th Gender  \\\n",
       "0   1595       India    85    94      F   \n",
       "1  11564       India    84    53      F   \n",
       "2   4769       India    84    47      M   \n",
       "3   7669       India    89    92      F   \n",
       "4   6479       India    76    90      F   \n",
       "\n",
       "                               Department  \n",
       "0  [CS,Civil,Mech,Electronics,Electrical]  \n",
       "1                          [Not Eligible]  \n",
       "2                          [Not Eligible]  \n",
       "3     [Civil,Mech,Electronics,Electrical]  \n",
       "4     [Civil,Mech,Electronics,Electrical]  "
      ]
     },
     "execution_count": 129,
     "metadata": {},
     "output_type": "execute_result"
    }
   ],
   "source": [
    "dat.head()"
   ]
  },
  {
   "cell_type": "code",
   "execution_count": 130,
   "id": "a64c6c0f",
   "metadata": {},
   "outputs": [
    {
     "data": {
      "text/html": [
       "<div>\n",
       "<style scoped>\n",
       "    .dataframe tbody tr th:only-of-type {\n",
       "        vertical-align: middle;\n",
       "    }\n",
       "\n",
       "    .dataframe tbody tr th {\n",
       "        vertical-align: top;\n",
       "    }\n",
       "\n",
       "    .dataframe thead th {\n",
       "        text-align: right;\n",
       "    }\n",
       "</style>\n",
       "<table border=\"1\" class=\"dataframe\">\n",
       "  <thead>\n",
       "    <tr style=\"text-align: right;\">\n",
       "      <th></th>\n",
       "      <th>Rank</th>\n",
       "      <th>Nationality</th>\n",
       "      <th>10th</th>\n",
       "      <th>12th</th>\n",
       "      <th>Gender</th>\n",
       "      <th>Department</th>\n",
       "    </tr>\n",
       "  </thead>\n",
       "  <tbody>\n",
       "    <tr>\n",
       "      <th>694</th>\n",
       "      <td>12785</td>\n",
       "      <td>India</td>\n",
       "      <td>88</td>\n",
       "      <td>79</td>\n",
       "      <td>M</td>\n",
       "      <td>[CS,Civil,Mech,Electronics,Electrical]</td>\n",
       "    </tr>\n",
       "    <tr>\n",
       "      <th>695</th>\n",
       "      <td>12025</td>\n",
       "      <td>Nepal</td>\n",
       "      <td>91</td>\n",
       "      <td>60</td>\n",
       "      <td>M</td>\n",
       "      <td>[Not Eligible]</td>\n",
       "    </tr>\n",
       "    <tr>\n",
       "      <th>696</th>\n",
       "      <td>12308</td>\n",
       "      <td>Nepal</td>\n",
       "      <td>92</td>\n",
       "      <td>77</td>\n",
       "      <td>M</td>\n",
       "      <td>[Civil]</td>\n",
       "    </tr>\n",
       "    <tr>\n",
       "      <th>697</th>\n",
       "      <td>12631</td>\n",
       "      <td>Ethiopia</td>\n",
       "      <td>87</td>\n",
       "      <td>77</td>\n",
       "      <td>F</td>\n",
       "      <td>[Not Eligible]</td>\n",
       "    </tr>\n",
       "    <tr>\n",
       "      <th>698</th>\n",
       "      <td>14276</td>\n",
       "      <td>Nepal</td>\n",
       "      <td>87</td>\n",
       "      <td>66</td>\n",
       "      <td>M</td>\n",
       "      <td>[Civil]</td>\n",
       "    </tr>\n",
       "  </tbody>\n",
       "</table>\n",
       "</div>"
      ],
      "text/plain": [
       "      Rank Nationality  10th  12th Gender  \\\n",
       "694  12785       India    88    79      M   \n",
       "695  12025       Nepal    91    60      M   \n",
       "696  12308       Nepal    92    77      M   \n",
       "697  12631    Ethiopia    87    77      F   \n",
       "698  14276       Nepal    87    66      M   \n",
       "\n",
       "                                 Department  \n",
       "694  [CS,Civil,Mech,Electronics,Electrical]  \n",
       "695                          [Not Eligible]  \n",
       "696                                 [Civil]  \n",
       "697                          [Not Eligible]  \n",
       "698                                 [Civil]  "
      ]
     },
     "execution_count": 130,
     "metadata": {},
     "output_type": "execute_result"
    }
   ],
   "source": [
    "dat.tail()"
   ]
  },
  {
   "cell_type": "code",
   "execution_count": 131,
   "id": "6bcc7628",
   "metadata": {},
   "outputs": [
    {
     "data": {
      "text/plain": [
       "(699, 6)"
      ]
     },
     "execution_count": 131,
     "metadata": {},
     "output_type": "execute_result"
    }
   ],
   "source": [
    "dat.shape"
   ]
  },
  {
   "cell_type": "code",
   "execution_count": 132,
   "id": "1c9ed803",
   "metadata": {},
   "outputs": [
    {
     "data": {
      "text/html": [
       "<div>\n",
       "<style scoped>\n",
       "    .dataframe tbody tr th:only-of-type {\n",
       "        vertical-align: middle;\n",
       "    }\n",
       "\n",
       "    .dataframe tbody tr th {\n",
       "        vertical-align: top;\n",
       "    }\n",
       "\n",
       "    .dataframe thead th {\n",
       "        text-align: right;\n",
       "    }\n",
       "</style>\n",
       "<table border=\"1\" class=\"dataframe\">\n",
       "  <thead>\n",
       "    <tr style=\"text-align: right;\">\n",
       "      <th></th>\n",
       "      <th>Rank</th>\n",
       "      <th>10th</th>\n",
       "      <th>12th</th>\n",
       "    </tr>\n",
       "  </thead>\n",
       "  <tbody>\n",
       "    <tr>\n",
       "      <th>count</th>\n",
       "      <td>699.000000</td>\n",
       "      <td>699.000000</td>\n",
       "      <td>699.000000</td>\n",
       "    </tr>\n",
       "    <tr>\n",
       "      <th>mean</th>\n",
       "      <td>8094.462089</td>\n",
       "      <td>85.742489</td>\n",
       "      <td>70.280401</td>\n",
       "    </tr>\n",
       "    <tr>\n",
       "      <th>std</th>\n",
       "      <td>4221.988076</td>\n",
       "      <td>6.052498</td>\n",
       "      <td>14.016826</td>\n",
       "    </tr>\n",
       "    <tr>\n",
       "      <th>min</th>\n",
       "      <td>57.000000</td>\n",
       "      <td>75.000000</td>\n",
       "      <td>45.000000</td>\n",
       "    </tr>\n",
       "    <tr>\n",
       "      <th>25%</th>\n",
       "      <td>4688.500000</td>\n",
       "      <td>81.000000</td>\n",
       "      <td>59.000000</td>\n",
       "    </tr>\n",
       "    <tr>\n",
       "      <th>50%</th>\n",
       "      <td>8125.000000</td>\n",
       "      <td>86.000000</td>\n",
       "      <td>70.000000</td>\n",
       "    </tr>\n",
       "    <tr>\n",
       "      <th>75%</th>\n",
       "      <td>12019.000000</td>\n",
       "      <td>91.000000</td>\n",
       "      <td>81.000000</td>\n",
       "    </tr>\n",
       "    <tr>\n",
       "      <th>max</th>\n",
       "      <td>14992.000000</td>\n",
       "      <td>96.000000</td>\n",
       "      <td>97.000000</td>\n",
       "    </tr>\n",
       "  </tbody>\n",
       "</table>\n",
       "</div>"
      ],
      "text/plain": [
       "               Rank        10th        12th\n",
       "count    699.000000  699.000000  699.000000\n",
       "mean    8094.462089   85.742489   70.280401\n",
       "std     4221.988076    6.052498   14.016826\n",
       "min       57.000000   75.000000   45.000000\n",
       "25%     4688.500000   81.000000   59.000000\n",
       "50%     8125.000000   86.000000   70.000000\n",
       "75%    12019.000000   91.000000   81.000000\n",
       "max    14992.000000   96.000000   97.000000"
      ]
     },
     "execution_count": 132,
     "metadata": {},
     "output_type": "execute_result"
    }
   ],
   "source": [
    "dat.describe()"
   ]
  },
  {
   "cell_type": "code",
   "execution_count": 133,
   "id": "c3cdc969",
   "metadata": {},
   "outputs": [
    {
     "data": {
      "text/html": [
       "<div>\n",
       "<style scoped>\n",
       "    .dataframe tbody tr th:only-of-type {\n",
       "        vertical-align: middle;\n",
       "    }\n",
       "\n",
       "    .dataframe tbody tr th {\n",
       "        vertical-align: top;\n",
       "    }\n",
       "\n",
       "    .dataframe thead th {\n",
       "        text-align: right;\n",
       "    }\n",
       "</style>\n",
       "<table border=\"1\" class=\"dataframe\">\n",
       "  <thead>\n",
       "    <tr style=\"text-align: right;\">\n",
       "      <th></th>\n",
       "      <th>Rank</th>\n",
       "      <th>Nationality</th>\n",
       "      <th>10th</th>\n",
       "      <th>12th</th>\n",
       "      <th>Gender</th>\n",
       "      <th>Department</th>\n",
       "    </tr>\n",
       "  </thead>\n",
       "  <tbody>\n",
       "    <tr>\n",
       "      <th>0</th>\n",
       "      <td>1595</td>\n",
       "      <td>India</td>\n",
       "      <td>85</td>\n",
       "      <td>94</td>\n",
       "      <td>F</td>\n",
       "      <td>[CS,Civil,Mech,Electronics,Electrical]</td>\n",
       "    </tr>\n",
       "    <tr>\n",
       "      <th>1</th>\n",
       "      <td>11564</td>\n",
       "      <td>India</td>\n",
       "      <td>84</td>\n",
       "      <td>53</td>\n",
       "      <td>F</td>\n",
       "      <td>[Not Eligible]</td>\n",
       "    </tr>\n",
       "    <tr>\n",
       "      <th>2</th>\n",
       "      <td>4769</td>\n",
       "      <td>India</td>\n",
       "      <td>84</td>\n",
       "      <td>47</td>\n",
       "      <td>M</td>\n",
       "      <td>[Not Eligible]</td>\n",
       "    </tr>\n",
       "    <tr>\n",
       "      <th>3</th>\n",
       "      <td>7669</td>\n",
       "      <td>India</td>\n",
       "      <td>89</td>\n",
       "      <td>92</td>\n",
       "      <td>F</td>\n",
       "      <td>[Civil,Mech,Electronics,Electrical]</td>\n",
       "    </tr>\n",
       "    <tr>\n",
       "      <th>4</th>\n",
       "      <td>6479</td>\n",
       "      <td>India</td>\n",
       "      <td>76</td>\n",
       "      <td>90</td>\n",
       "      <td>F</td>\n",
       "      <td>[Civil,Mech,Electronics,Electrical]</td>\n",
       "    </tr>\n",
       "  </tbody>\n",
       "</table>\n",
       "</div>"
      ],
      "text/plain": [
       "    Rank Nationality  10th  12th Gender  \\\n",
       "0   1595       India    85    94      F   \n",
       "1  11564       India    84    53      F   \n",
       "2   4769       India    84    47      M   \n",
       "3   7669       India    89    92      F   \n",
       "4   6479       India    76    90      F   \n",
       "\n",
       "                               Department  \n",
       "0  [CS,Civil,Mech,Electronics,Electrical]  \n",
       "1                          [Not Eligible]  \n",
       "2                          [Not Eligible]  \n",
       "3     [Civil,Mech,Electronics,Electrical]  \n",
       "4     [Civil,Mech,Electronics,Electrical]  "
      ]
     },
     "execution_count": 133,
     "metadata": {},
     "output_type": "execute_result"
    }
   ],
   "source": [
    "dat.head()"
   ]
  },
  {
   "cell_type": "markdown",
   "id": "d061d116",
   "metadata": {},
   "source": [
    "# Detecting Outliers"
   ]
  },
  {
   "cell_type": "code",
   "execution_count": 134,
   "id": "16de7a60",
   "metadata": {},
   "outputs": [],
   "source": [
    "def find_outliers_IQR(dat):\n",
    "\n",
    "   q1=data.quantile(0.25)\n",
    "\n",
    "   q3=data.quantile(0.75)\n",
    "\n",
    "   IQR=q3-q1\n",
    "\n",
    "   outliers = data[((data<(q1-1.5*IQR)) | (data>(q3+1.5*IQR)))]\n",
    "\n",
    "   return outliers"
   ]
  },
  {
   "cell_type": "code",
   "execution_count": 135,
   "id": "d7557670",
   "metadata": {},
   "outputs": [
    {
     "name": "stdout",
     "output_type": "stream",
     "text": [
      "number of outliers:699\n",
      "max outlier value: Rank            NaN\n",
      "Nationality    None\n",
      "10th            NaN\n",
      "12th            NaN\n",
      "Gender         None\n",
      "Department     None\n",
      "dtype: object\n",
      "min outlier value: Rank            NaN\n",
      "Nationality    None\n",
      "10th            NaN\n",
      "12th            NaN\n",
      "Gender         None\n",
      "Department     None\n",
      "dtype: object\n"
     ]
    },
    {
     "name": "stderr",
     "output_type": "stream",
     "text": [
      "C:\\Users\\vishn\\AppData\\Local\\Temp\\ipykernel_18028\\561833786.py:9: FutureWarning: Automatic reindexing on DataFrame vs Series comparisons is deprecated and will raise ValueError in a future version. Do `left, right = left.align(right, axis=1, copy=False)` before e.g. `left == right`\n",
      "  outliers = data[((data<(q1-1.5*IQR)) | (data>(q3+1.5*IQR)))]\n"
     ]
    },
    {
     "data": {
      "text/html": [
       "<div>\n",
       "<style scoped>\n",
       "    .dataframe tbody tr th:only-of-type {\n",
       "        vertical-align: middle;\n",
       "    }\n",
       "\n",
       "    .dataframe tbody tr th {\n",
       "        vertical-align: top;\n",
       "    }\n",
       "\n",
       "    .dataframe thead th {\n",
       "        text-align: right;\n",
       "    }\n",
       "</style>\n",
       "<table border=\"1\" class=\"dataframe\">\n",
       "  <thead>\n",
       "    <tr style=\"text-align: right;\">\n",
       "      <th></th>\n",
       "      <th>Rank</th>\n",
       "      <th>Nationality</th>\n",
       "      <th>10th</th>\n",
       "      <th>12th</th>\n",
       "      <th>Gender</th>\n",
       "      <th>Department</th>\n",
       "    </tr>\n",
       "  </thead>\n",
       "  <tbody>\n",
       "    <tr>\n",
       "      <th>0</th>\n",
       "      <td>NaN</td>\n",
       "      <td>NaN</td>\n",
       "      <td>NaN</td>\n",
       "      <td>NaN</td>\n",
       "      <td>NaN</td>\n",
       "      <td>NaN</td>\n",
       "    </tr>\n",
       "    <tr>\n",
       "      <th>1</th>\n",
       "      <td>NaN</td>\n",
       "      <td>NaN</td>\n",
       "      <td>NaN</td>\n",
       "      <td>NaN</td>\n",
       "      <td>NaN</td>\n",
       "      <td>NaN</td>\n",
       "    </tr>\n",
       "    <tr>\n",
       "      <th>2</th>\n",
       "      <td>NaN</td>\n",
       "      <td>NaN</td>\n",
       "      <td>NaN</td>\n",
       "      <td>NaN</td>\n",
       "      <td>NaN</td>\n",
       "      <td>NaN</td>\n",
       "    </tr>\n",
       "    <tr>\n",
       "      <th>3</th>\n",
       "      <td>NaN</td>\n",
       "      <td>NaN</td>\n",
       "      <td>NaN</td>\n",
       "      <td>NaN</td>\n",
       "      <td>NaN</td>\n",
       "      <td>NaN</td>\n",
       "    </tr>\n",
       "    <tr>\n",
       "      <th>4</th>\n",
       "      <td>NaN</td>\n",
       "      <td>NaN</td>\n",
       "      <td>NaN</td>\n",
       "      <td>NaN</td>\n",
       "      <td>NaN</td>\n",
       "      <td>NaN</td>\n",
       "    </tr>\n",
       "    <tr>\n",
       "      <th>...</th>\n",
       "      <td>...</td>\n",
       "      <td>...</td>\n",
       "      <td>...</td>\n",
       "      <td>...</td>\n",
       "      <td>...</td>\n",
       "      <td>...</td>\n",
       "    </tr>\n",
       "    <tr>\n",
       "      <th>694</th>\n",
       "      <td>NaN</td>\n",
       "      <td>NaN</td>\n",
       "      <td>NaN</td>\n",
       "      <td>NaN</td>\n",
       "      <td>NaN</td>\n",
       "      <td>NaN</td>\n",
       "    </tr>\n",
       "    <tr>\n",
       "      <th>695</th>\n",
       "      <td>NaN</td>\n",
       "      <td>NaN</td>\n",
       "      <td>NaN</td>\n",
       "      <td>NaN</td>\n",
       "      <td>NaN</td>\n",
       "      <td>NaN</td>\n",
       "    </tr>\n",
       "    <tr>\n",
       "      <th>696</th>\n",
       "      <td>NaN</td>\n",
       "      <td>NaN</td>\n",
       "      <td>NaN</td>\n",
       "      <td>NaN</td>\n",
       "      <td>NaN</td>\n",
       "      <td>NaN</td>\n",
       "    </tr>\n",
       "    <tr>\n",
       "      <th>697</th>\n",
       "      <td>NaN</td>\n",
       "      <td>NaN</td>\n",
       "      <td>NaN</td>\n",
       "      <td>NaN</td>\n",
       "      <td>NaN</td>\n",
       "      <td>NaN</td>\n",
       "    </tr>\n",
       "    <tr>\n",
       "      <th>698</th>\n",
       "      <td>NaN</td>\n",
       "      <td>NaN</td>\n",
       "      <td>NaN</td>\n",
       "      <td>NaN</td>\n",
       "      <td>NaN</td>\n",
       "      <td>NaN</td>\n",
       "    </tr>\n",
       "  </tbody>\n",
       "</table>\n",
       "<p>699 rows × 6 columns</p>\n",
       "</div>"
      ],
      "text/plain": [
       "     Rank Nationality  10th  12th Gender Department\n",
       "0     NaN         NaN   NaN   NaN    NaN        NaN\n",
       "1     NaN         NaN   NaN   NaN    NaN        NaN\n",
       "2     NaN         NaN   NaN   NaN    NaN        NaN\n",
       "3     NaN         NaN   NaN   NaN    NaN        NaN\n",
       "4     NaN         NaN   NaN   NaN    NaN        NaN\n",
       "..    ...         ...   ...   ...    ...        ...\n",
       "694   NaN         NaN   NaN   NaN    NaN        NaN\n",
       "695   NaN         NaN   NaN   NaN    NaN        NaN\n",
       "696   NaN         NaN   NaN   NaN    NaN        NaN\n",
       "697   NaN         NaN   NaN   NaN    NaN        NaN\n",
       "698   NaN         NaN   NaN   NaN    NaN        NaN\n",
       "\n",
       "[699 rows x 6 columns]"
      ]
     },
     "execution_count": 135,
     "metadata": {},
     "output_type": "execute_result"
    }
   ],
   "source": [
    "outliers = find_outliers_IQR(dat[\"Rank\"])\n",
    "\n",
    "print(\"number of outliers:\"+ str(len(outliers)))\n",
    "\n",
    "print(\"max outlier value: \"+ str(outliers.max()))\n",
    "\n",
    "print(\"min outlier value: \"+ str(outliers.min()))\n",
    "\n",
    "outliers"
   ]
  },
  {
   "cell_type": "markdown",
   "id": "c31841a8",
   "metadata": {},
   "source": [
    "# Feature Selection"
   ]
  },
  {
   "cell_type": "code",
   "execution_count": 136,
   "id": "9f5e54b4",
   "metadata": {},
   "outputs": [
    {
     "data": {
      "image/png": "[encoded data removed]",
      "text/plain": [
       "<Figure size 864x720 with 2 Axes>"
      ]
     },
     "metadata": {
      "needs_background": "light"
     },
     "output_type": "display_data"
    }
   ],
   "source": [
    "plt.figure(figsize=(12,10))\n",
    "corr = dat.corr()\n",
    "sb.heatmap(corr, annot=True, cmap=plt.cm.Reds)\n",
    "plt.show()"
   ]
  },
  {
   "cell_type": "markdown",
   "id": "90e3322d",
   "metadata": {},
   "source": [
    "# One Hot encoding"
   ]
  },
  {
   "cell_type": "code",
   "execution_count": 137,
   "id": "2ae9a112",
   "metadata": {},
   "outputs": [
    {
     "data": {
      "text/html": [
       "<div>\n",
       "<style scoped>\n",
       "    .dataframe tbody tr th:only-of-type {\n",
       "        vertical-align: middle;\n",
       "    }\n",
       "\n",
       "    .dataframe tbody tr th {\n",
       "        vertical-align: top;\n",
       "    }\n",
       "\n",
       "    .dataframe thead th {\n",
       "        text-align: right;\n",
       "    }\n",
       "</style>\n",
       "<table border=\"1\" class=\"dataframe\">\n",
       "  <thead>\n",
       "    <tr style=\"text-align: right;\">\n",
       "      <th></th>\n",
       "      <th>Ethiopia</th>\n",
       "      <th>India</th>\n",
       "      <th>Nepal</th>\n",
       "    </tr>\n",
       "  </thead>\n",
       "  <tbody>\n",
       "    <tr>\n",
       "      <th>0</th>\n",
       "      <td>0</td>\n",
       "      <td>1</td>\n",
       "      <td>0</td>\n",
       "    </tr>\n",
       "    <tr>\n",
       "      <th>1</th>\n",
       "      <td>0</td>\n",
       "      <td>1</td>\n",
       "      <td>0</td>\n",
       "    </tr>\n",
       "    <tr>\n",
       "      <th>2</th>\n",
       "      <td>0</td>\n",
       "      <td>1</td>\n",
       "      <td>0</td>\n",
       "    </tr>\n",
       "    <tr>\n",
       "      <th>3</th>\n",
       "      <td>0</td>\n",
       "      <td>1</td>\n",
       "      <td>0</td>\n",
       "    </tr>\n",
       "    <tr>\n",
       "      <th>4</th>\n",
       "      <td>0</td>\n",
       "      <td>1</td>\n",
       "      <td>0</td>\n",
       "    </tr>\n",
       "    <tr>\n",
       "      <th>...</th>\n",
       "      <td>...</td>\n",
       "      <td>...</td>\n",
       "      <td>...</td>\n",
       "    </tr>\n",
       "    <tr>\n",
       "      <th>694</th>\n",
       "      <td>0</td>\n",
       "      <td>1</td>\n",
       "      <td>0</td>\n",
       "    </tr>\n",
       "    <tr>\n",
       "      <th>695</th>\n",
       "      <td>0</td>\n",
       "      <td>0</td>\n",
       "      <td>1</td>\n",
       "    </tr>\n",
       "    <tr>\n",
       "      <th>696</th>\n",
       "      <td>0</td>\n",
       "      <td>0</td>\n",
       "      <td>1</td>\n",
       "    </tr>\n",
       "    <tr>\n",
       "      <th>697</th>\n",
       "      <td>1</td>\n",
       "      <td>0</td>\n",
       "      <td>0</td>\n",
       "    </tr>\n",
       "    <tr>\n",
       "      <th>698</th>\n",
       "      <td>0</td>\n",
       "      <td>0</td>\n",
       "      <td>1</td>\n",
       "    </tr>\n",
       "  </tbody>\n",
       "</table>\n",
       "<p>699 rows × 3 columns</p>\n",
       "</div>"
      ],
      "text/plain": [
       "     Ethiopia  India  Nepal\n",
       "0           0      1      0\n",
       "1           0      1      0\n",
       "2           0      1      0\n",
       "3           0      1      0\n",
       "4           0      1      0\n",
       "..        ...    ...    ...\n",
       "694         0      1      0\n",
       "695         0      0      1\n",
       "696         0      0      1\n",
       "697         1      0      0\n",
       "698         0      0      1\n",
       "\n",
       "[699 rows x 3 columns]"
      ]
     },
     "execution_count": 137,
     "metadata": {},
     "output_type": "execute_result"
    }
   ],
   "source": [
    "dummies = pd.get_dummies(dat.Nationality)\n",
    "dummies"
   ]
  },
  {
   "cell_type": "code",
   "execution_count": 138,
   "id": "6f1c0e7f",
   "metadata": {},
   "outputs": [
    {
     "data": {
      "text/html": [
       "<div>\n",
       "<style scoped>\n",
       "    .dataframe tbody tr th:only-of-type {\n",
       "        vertical-align: middle;\n",
       "    }\n",
       "\n",
       "    .dataframe tbody tr th {\n",
       "        vertical-align: top;\n",
       "    }\n",
       "\n",
       "    .dataframe thead th {\n",
       "        text-align: right;\n",
       "    }\n",
       "</style>\n",
       "<table border=\"1\" class=\"dataframe\">\n",
       "  <thead>\n",
       "    <tr style=\"text-align: right;\">\n",
       "      <th></th>\n",
       "      <th>Rank</th>\n",
       "      <th>Nationality</th>\n",
       "      <th>10th</th>\n",
       "      <th>12th</th>\n",
       "      <th>Gender</th>\n",
       "      <th>Department</th>\n",
       "      <th>Ethiopia</th>\n",
       "      <th>India</th>\n",
       "      <th>Nepal</th>\n",
       "    </tr>\n",
       "  </thead>\n",
       "  <tbody>\n",
       "    <tr>\n",
       "      <th>0</th>\n",
       "      <td>1595</td>\n",
       "      <td>India</td>\n",
       "      <td>85</td>\n",
       "      <td>94</td>\n",
       "      <td>F</td>\n",
       "      <td>[CS,Civil,Mech,Electronics,Electrical]</td>\n",
       "      <td>0</td>\n",
       "      <td>1</td>\n",
       "      <td>0</td>\n",
       "    </tr>\n",
       "    <tr>\n",
       "      <th>1</th>\n",
       "      <td>11564</td>\n",
       "      <td>India</td>\n",
       "      <td>84</td>\n",
       "      <td>53</td>\n",
       "      <td>F</td>\n",
       "      <td>[Not Eligible]</td>\n",
       "      <td>0</td>\n",
       "      <td>1</td>\n",
       "      <td>0</td>\n",
       "    </tr>\n",
       "    <tr>\n",
       "      <th>2</th>\n",
       "      <td>4769</td>\n",
       "      <td>India</td>\n",
       "      <td>84</td>\n",
       "      <td>47</td>\n",
       "      <td>M</td>\n",
       "      <td>[Not Eligible]</td>\n",
       "      <td>0</td>\n",
       "      <td>1</td>\n",
       "      <td>0</td>\n",
       "    </tr>\n",
       "    <tr>\n",
       "      <th>3</th>\n",
       "      <td>7669</td>\n",
       "      <td>India</td>\n",
       "      <td>89</td>\n",
       "      <td>92</td>\n",
       "      <td>F</td>\n",
       "      <td>[Civil,Mech,Electronics,Electrical]</td>\n",
       "      <td>0</td>\n",
       "      <td>1</td>\n",
       "      <td>0</td>\n",
       "    </tr>\n",
       "    <tr>\n",
       "      <th>4</th>\n",
       "      <td>6479</td>\n",
       "      <td>India</td>\n",
       "      <td>76</td>\n",
       "      <td>90</td>\n",
       "      <td>F</td>\n",
       "      <td>[Civil,Mech,Electronics,Electrical]</td>\n",
       "      <td>0</td>\n",
       "      <td>1</td>\n",
       "      <td>0</td>\n",
       "    </tr>\n",
       "    <tr>\n",
       "      <th>...</th>\n",
       "      <td>...</td>\n",
       "      <td>...</td>\n",
       "      <td>...</td>\n",
       "      <td>...</td>\n",
       "      <td>...</td>\n",
       "      <td>...</td>\n",
       "      <td>...</td>\n",
       "      <td>...</td>\n",
       "      <td>...</td>\n",
       "    </tr>\n",
       "    <tr>\n",
       "      <th>694</th>\n",
       "      <td>12785</td>\n",
       "      <td>India</td>\n",
       "      <td>88</td>\n",
       "      <td>79</td>\n",
       "      <td>M</td>\n",
       "      <td>[CS,Civil,Mech,Electronics,Electrical]</td>\n",
       "      <td>0</td>\n",
       "      <td>1</td>\n",
       "      <td>0</td>\n",
       "    </tr>\n",
       "    <tr>\n",
       "      <th>695</th>\n",
       "      <td>12025</td>\n",
       "      <td>Nepal</td>\n",
       "      <td>91</td>\n",
       "      <td>60</td>\n",
       "      <td>M</td>\n",
       "      <td>[Not Eligible]</td>\n",
       "      <td>0</td>\n",
       "      <td>0</td>\n",
       "      <td>1</td>\n",
       "    </tr>\n",
       "    <tr>\n",
       "      <th>696</th>\n",
       "      <td>12308</td>\n",
       "      <td>Nepal</td>\n",
       "      <td>92</td>\n",
       "      <td>77</td>\n",
       "      <td>M</td>\n",
       "      <td>[Civil]</td>\n",
       "      <td>0</td>\n",
       "      <td>0</td>\n",
       "      <td>1</td>\n",
       "    </tr>\n",
       "    <tr>\n",
       "      <th>697</th>\n",
       "      <td>12631</td>\n",
       "      <td>Ethiopia</td>\n",
       "      <td>87</td>\n",
       "      <td>77</td>\n",
       "      <td>F</td>\n",
       "      <td>[Not Eligible]</td>\n",
       "      <td>1</td>\n",
       "      <td>0</td>\n",
       "      <td>0</td>\n",
       "    </tr>\n",
       "    <tr>\n",
       "      <th>698</th>\n",
       "      <td>14276</td>\n",
       "      <td>Nepal</td>\n",
       "      <td>87</td>\n",
       "      <td>66</td>\n",
       "      <td>M</td>\n",
       "      <td>[Civil]</td>\n",
       "      <td>0</td>\n",
       "      <td>0</td>\n",
       "      <td>1</td>\n",
       "    </tr>\n",
       "  </tbody>\n",
       "</table>\n",
       "<p>699 rows × 9 columns</p>\n",
       "</div>"
      ],
      "text/plain": [
       "      Rank Nationality  10th  12th Gender  \\\n",
       "0     1595       India    85    94      F   \n",
       "1    11564       India    84    53      F   \n",
       "2     4769       India    84    47      M   \n",
       "3     7669       India    89    92      F   \n",
       "4     6479       India    76    90      F   \n",
       "..     ...         ...   ...   ...    ...   \n",
       "694  12785       India    88    79      M   \n",
       "695  12025       Nepal    91    60      M   \n",
       "696  12308       Nepal    92    77      M   \n",
       "697  12631    Ethiopia    87    77      F   \n",
       "698  14276       Nepal    87    66      M   \n",
       "\n",
       "                                 Department  Ethiopia  India  Nepal  \n",
       "0    [CS,Civil,Mech,Electronics,Electrical]         0      1      0  \n",
       "1                            [Not Eligible]         0      1      0  \n",
       "2                            [Not Eligible]         0      1      0  \n",
       "3       [Civil,Mech,Electronics,Electrical]         0      1      0  \n",
       "4       [Civil,Mech,Electronics,Electrical]         0      1      0  \n",
       "..                                      ...       ...    ...    ...  \n",
       "694  [CS,Civil,Mech,Electronics,Electrical]         0      1      0  \n",
       "695                          [Not Eligible]         0      0      1  \n",
       "696                                 [Civil]         0      0      1  \n",
       "697                          [Not Eligible]         1      0      0  \n",
       "698                                 [Civil]         0      0      1  \n",
       "\n",
       "[699 rows x 9 columns]"
      ]
     },
     "execution_count": 138,
     "metadata": {},
     "output_type": "execute_result"
    }
   ],
   "source": [
    "merged = pd.concat([dat,dummies],axis=1)\n",
    "merged\n"
   ]
  },
  {
   "cell_type": "code",
   "execution_count": 139,
   "id": "18a8edd1",
   "metadata": {},
   "outputs": [
    {
     "data": {
      "text/html": [
       "<div>\n",
       "<style scoped>\n",
       "    .dataframe tbody tr th:only-of-type {\n",
       "        vertical-align: middle;\n",
       "    }\n",
       "\n",
       "    .dataframe tbody tr th {\n",
       "        vertical-align: top;\n",
       "    }\n",
       "\n",
       "    .dataframe thead th {\n",
       "        text-align: right;\n",
       "    }\n",
       "</style>\n",
       "<table border=\"1\" class=\"dataframe\">\n",
       "  <thead>\n",
       "    <tr style=\"text-align: right;\">\n",
       "      <th></th>\n",
       "      <th>Rank</th>\n",
       "      <th>10th</th>\n",
       "      <th>12th</th>\n",
       "      <th>Gender</th>\n",
       "      <th>Department</th>\n",
       "      <th>Ethiopia</th>\n",
       "      <th>India</th>\n",
       "      <th>Nepal</th>\n",
       "    </tr>\n",
       "  </thead>\n",
       "  <tbody>\n",
       "    <tr>\n",
       "      <th>0</th>\n",
       "      <td>1595</td>\n",
       "      <td>85</td>\n",
       "      <td>94</td>\n",
       "      <td>F</td>\n",
       "      <td>[CS,Civil,Mech,Electronics,Electrical]</td>\n",
       "      <td>0</td>\n",
       "      <td>1</td>\n",
       "      <td>0</td>\n",
       "    </tr>\n",
       "    <tr>\n",
       "      <th>1</th>\n",
       "      <td>11564</td>\n",
       "      <td>84</td>\n",
       "      <td>53</td>\n",
       "      <td>F</td>\n",
       "      <td>[Not Eligible]</td>\n",
       "      <td>0</td>\n",
       "      <td>1</td>\n",
       "      <td>0</td>\n",
       "    </tr>\n",
       "    <tr>\n",
       "      <th>2</th>\n",
       "      <td>4769</td>\n",
       "      <td>84</td>\n",
       "      <td>47</td>\n",
       "      <td>M</td>\n",
       "      <td>[Not Eligible]</td>\n",
       "      <td>0</td>\n",
       "      <td>1</td>\n",
       "      <td>0</td>\n",
       "    </tr>\n",
       "    <tr>\n",
       "      <th>3</th>\n",
       "      <td>7669</td>\n",
       "      <td>89</td>\n",
       "      <td>92</td>\n",
       "      <td>F</td>\n",
       "      <td>[Civil,Mech,Electronics,Electrical]</td>\n",
       "      <td>0</td>\n",
       "      <td>1</td>\n",
       "      <td>0</td>\n",
       "    </tr>\n",
       "    <tr>\n",
       "      <th>4</th>\n",
       "      <td>6479</td>\n",
       "      <td>76</td>\n",
       "      <td>90</td>\n",
       "      <td>F</td>\n",
       "      <td>[Civil,Mech,Electronics,Electrical]</td>\n",
       "      <td>0</td>\n",
       "      <td>1</td>\n",
       "      <td>0</td>\n",
       "    </tr>\n",
       "    <tr>\n",
       "      <th>...</th>\n",
       "      <td>...</td>\n",
       "      <td>...</td>\n",
       "      <td>...</td>\n",
       "      <td>...</td>\n",
       "      <td>...</td>\n",
       "      <td>...</td>\n",
       "      <td>...</td>\n",
       "      <td>...</td>\n",
       "    </tr>\n",
       "    <tr>\n",
       "      <th>694</th>\n",
       "      <td>12785</td>\n",
       "      <td>88</td>\n",
       "      <td>79</td>\n",
       "      <td>M</td>\n",
       "      <td>[CS,Civil,Mech,Electronics,Electrical]</td>\n",
       "      <td>0</td>\n",
       "      <td>1</td>\n",
       "      <td>0</td>\n",
       "    </tr>\n",
       "    <tr>\n",
       "      <th>695</th>\n",
       "      <td>12025</td>\n",
       "      <td>91</td>\n",
       "      <td>60</td>\n",
       "      <td>M</td>\n",
       "      <td>[Not Eligible]</td>\n",
       "      <td>0</td>\n",
       "      <td>0</td>\n",
       "      <td>1</td>\n",
       "    </tr>\n",
       "    <tr>\n",
       "      <th>696</th>\n",
       "      <td>12308</td>\n",
       "      <td>92</td>\n",
       "      <td>77</td>\n",
       "      <td>M</td>\n",
       "      <td>[Civil]</td>\n",
       "      <td>0</td>\n",
       "      <td>0</td>\n",
       "      <td>1</td>\n",
       "    </tr>\n",
       "    <tr>\n",
       "      <th>697</th>\n",
       "      <td>12631</td>\n",
       "      <td>87</td>\n",
       "      <td>77</td>\n",
       "      <td>F</td>\n",
       "      <td>[Not Eligible]</td>\n",
       "      <td>1</td>\n",
       "      <td>0</td>\n",
       "      <td>0</td>\n",
       "    </tr>\n",
       "    <tr>\n",
       "      <th>698</th>\n",
       "      <td>14276</td>\n",
       "      <td>87</td>\n",
       "      <td>66</td>\n",
       "      <td>M</td>\n",
       "      <td>[Civil]</td>\n",
       "      <td>0</td>\n",
       "      <td>0</td>\n",
       "      <td>1</td>\n",
       "    </tr>\n",
       "  </tbody>\n",
       "</table>\n",
       "<p>699 rows × 8 columns</p>\n",
       "</div>"
      ],
      "text/plain": [
       "      Rank  10th  12th Gender                              Department  \\\n",
       "0     1595    85    94      F  [CS,Civil,Mech,Electronics,Electrical]   \n",
       "1    11564    84    53      F                          [Not Eligible]   \n",
       "2     4769    84    47      M                          [Not Eligible]   \n",
       "3     7669    89    92      F     [Civil,Mech,Electronics,Electrical]   \n",
       "4     6479    76    90      F     [Civil,Mech,Electronics,Electrical]   \n",
       "..     ...   ...   ...    ...                                     ...   \n",
       "694  12785    88    79      M  [CS,Civil,Mech,Electronics,Electrical]   \n",
       "695  12025    91    60      M                          [Not Eligible]   \n",
       "696  12308    92    77      M                                 [Civil]   \n",
       "697  12631    87    77      F                          [Not Eligible]   \n",
       "698  14276    87    66      M                                 [Civil]   \n",
       "\n",
       "     Ethiopia  India  Nepal  \n",
       "0           0      1      0  \n",
       "1           0      1      0  \n",
       "2           0      1      0  \n",
       "3           0      1      0  \n",
       "4           0      1      0  \n",
       "..        ...    ...    ...  \n",
       "694         0      1      0  \n",
       "695         0      0      1  \n",
       "696         0      0      1  \n",
       "697         1      0      0  \n",
       "698         0      0      1  \n",
       "\n",
       "[699 rows x 8 columns]"
      ]
     },
     "execution_count": 139,
     "metadata": {},
     "output_type": "execute_result"
    }
   ],
   "source": [
    "data= merged.drop(['Nationality'], axis=1)\n",
    "data\n"
   ]
  },
  {
   "cell_type": "markdown",
   "id": "a6dd67c0",
   "metadata": {},
   "source": [
    "# Dependent and ind variables"
   ]
  },
  {
   "cell_type": "code",
   "execution_count": 140,
   "id": "3bd0955d",
   "metadata": {},
   "outputs": [],
   "source": [
    "from sklearn.tree import DecisionTreeClassifier\n",
    "from sklearn.model_selection import train_test_split"
   ]
  },
  {
   "cell_type": "code",
   "execution_count": 141,
   "id": "47510e1e",
   "metadata": {},
   "outputs": [],
   "source": [
    "x=data.iloc[:,[0,1,2,5,6,7]]"
   ]
  },
  {
   "cell_type": "code",
   "execution_count": 142,
   "id": "cc9b8055",
   "metadata": {},
   "outputs": [
    {
     "data": {
      "text/html": [
       "<div>\n",
       "<style scoped>\n",
       "    .dataframe tbody tr th:only-of-type {\n",
       "        vertical-align: middle;\n",
       "    }\n",
       "\n",
       "    .dataframe tbody tr th {\n",
       "        vertical-align: top;\n",
       "    }\n",
       "\n",
       "    .dataframe thead th {\n",
       "        text-align: right;\n",
       "    }\n",
       "</style>\n",
       "<table border=\"1\" class=\"dataframe\">\n",
       "  <thead>\n",
       "    <tr style=\"text-align: right;\">\n",
       "      <th></th>\n",
       "      <th>Rank</th>\n",
       "      <th>10th</th>\n",
       "      <th>12th</th>\n",
       "      <th>Ethiopia</th>\n",
       "      <th>India</th>\n",
       "      <th>Nepal</th>\n",
       "    </tr>\n",
       "  </thead>\n",
       "  <tbody>\n",
       "    <tr>\n",
       "      <th>0</th>\n",
       "      <td>1595</td>\n",
       "      <td>85</td>\n",
       "      <td>94</td>\n",
       "      <td>0</td>\n",
       "      <td>1</td>\n",
       "      <td>0</td>\n",
       "    </tr>\n",
       "    <tr>\n",
       "      <th>1</th>\n",
       "      <td>11564</td>\n",
       "      <td>84</td>\n",
       "      <td>53</td>\n",
       "      <td>0</td>\n",
       "      <td>1</td>\n",
       "      <td>0</td>\n",
       "    </tr>\n",
       "    <tr>\n",
       "      <th>2</th>\n",
       "      <td>4769</td>\n",
       "      <td>84</td>\n",
       "      <td>47</td>\n",
       "      <td>0</td>\n",
       "      <td>1</td>\n",
       "      <td>0</td>\n",
       "    </tr>\n",
       "    <tr>\n",
       "      <th>3</th>\n",
       "      <td>7669</td>\n",
       "      <td>89</td>\n",
       "      <td>92</td>\n",
       "      <td>0</td>\n",
       "      <td>1</td>\n",
       "      <td>0</td>\n",
       "    </tr>\n",
       "    <tr>\n",
       "      <th>4</th>\n",
       "      <td>6479</td>\n",
       "      <td>76</td>\n",
       "      <td>90</td>\n",
       "      <td>0</td>\n",
       "      <td>1</td>\n",
       "      <td>0</td>\n",
       "    </tr>\n",
       "  </tbody>\n",
       "</table>\n",
       "</div>"
      ],
      "text/plain": [
       "    Rank  10th  12th  Ethiopia  India  Nepal\n",
       "0   1595    85    94         0      1      0\n",
       "1  11564    84    53         0      1      0\n",
       "2   4769    84    47         0      1      0\n",
       "3   7669    89    92         0      1      0\n",
       "4   6479    76    90         0      1      0"
      ]
     },
     "execution_count": 142,
     "metadata": {},
     "output_type": "execute_result"
    }
   ],
   "source": [
    "X.head()"
   ]
  },
  {
   "cell_type": "code",
   "execution_count": 143,
   "id": "8f2d1c0b",
   "metadata": {},
   "outputs": [],
   "source": [
    "y = data.iloc[:,[4]]"
   ]
  },
  {
   "cell_type": "code",
   "execution_count": 144,
   "id": "265e1af2",
   "metadata": {},
   "outputs": [
    {
     "data": {
      "text/html": [
       "<div>\n",
       "<style scoped>\n",
       "    .dataframe tbody tr th:only-of-type {\n",
       "        vertical-align: middle;\n",
       "    }\n",
       "\n",
       "    .dataframe tbody tr th {\n",
       "        vertical-align: top;\n",
       "    }\n",
       "\n",
       "    .dataframe thead th {\n",
       "        text-align: right;\n",
       "    }\n",
       "</style>\n",
       "<table border=\"1\" class=\"dataframe\">\n",
       "  <thead>\n",
       "    <tr style=\"text-align: right;\">\n",
       "      <th></th>\n",
       "      <th>Department</th>\n",
       "    </tr>\n",
       "  </thead>\n",
       "  <tbody>\n",
       "    <tr>\n",
       "      <th>0</th>\n",
       "      <td>[CS,Civil,Mech,Electronics,Electrical]</td>\n",
       "    </tr>\n",
       "    <tr>\n",
       "      <th>1</th>\n",
       "      <td>[Not Eligible]</td>\n",
       "    </tr>\n",
       "    <tr>\n",
       "      <th>2</th>\n",
       "      <td>[Not Eligible]</td>\n",
       "    </tr>\n",
       "    <tr>\n",
       "      <th>3</th>\n",
       "      <td>[Civil,Mech,Electronics,Electrical]</td>\n",
       "    </tr>\n",
       "    <tr>\n",
       "      <th>4</th>\n",
       "      <td>[Civil,Mech,Electronics,Electrical]</td>\n",
       "    </tr>\n",
       "  </tbody>\n",
       "</table>\n",
       "</div>"
      ],
      "text/plain": [
       "                               Department\n",
       "0  [CS,Civil,Mech,Electronics,Electrical]\n",
       "1                          [Not Eligible]\n",
       "2                          [Not Eligible]\n",
       "3     [Civil,Mech,Electronics,Electrical]\n",
       "4     [Civil,Mech,Electronics,Electrical]"
      ]
     },
     "execution_count": 144,
     "metadata": {},
     "output_type": "execute_result"
    }
   ],
   "source": [
    "y.head()"
   ]
  },
  {
   "cell_type": "markdown",
   "id": "c6d34d21",
   "metadata": {},
   "source": [
    "# Train test Split(train-70%,test-30%)"
   ]
  },
  {
   "cell_type": "code",
   "execution_count": 145,
   "id": "40b16f78",
   "metadata": {},
   "outputs": [],
   "source": [
    "X_train, X_test, y_train, y_test = train_test_split(X, y, train_size=0.70,test_size=0.30)"
   ]
  },
  {
   "cell_type": "markdown",
   "id": "9e0a5319",
   "metadata": {},
   "source": [
    "# library to visualize missing values"
   ]
  },
  {
   "cell_type": "code",
   "execution_count": 146,
   "id": "35777d1b",
   "metadata": {},
   "outputs": [],
   "source": [
    "import missingno as msno"
   ]
  },
  {
   "cell_type": "code",
   "execution_count": 147,
   "id": "d75f7e1f",
   "metadata": {},
   "outputs": [
    {
     "data": {
      "text/plain": [
       "<AxesSubplot:>"
      ]
     },
     "execution_count": 147,
     "metadata": {},
     "output_type": "execute_result"
    },
    {
     "data": {
      "image/png": "[encoded data removed]",
      "text/plain": [
       "<Figure size 1800x720 with 2 Axes>"
      ]
     },
     "metadata": {
      "needs_background": "light"
     },
     "output_type": "display_data"
    }
   ],
   "source": [
    "msno.matrix(X_train.sample(489))"
   ]
  },
  {
   "cell_type": "code",
   "execution_count": 148,
   "id": "ff2c3342",
   "metadata": {},
   "outputs": [
    {
     "data": {
      "text/plain": [
       "((489, 6), (210, 6))"
      ]
     },
     "execution_count": 148,
     "metadata": {},
     "output_type": "execute_result"
    }
   ],
   "source": [
    "X_train.shape , X_test.shape"
   ]
  },
  {
   "cell_type": "markdown",
   "id": "5c6b2ce4",
   "metadata": {},
   "source": [
    "# Building ML Models"
   ]
  },
  {
   "cell_type": "code",
   "execution_count": 149,
   "id": "d4e6997e",
   "metadata": {},
   "outputs": [],
   "source": [
    "dt = DecisionTreeClassifier()"
   ]
  },
  {
   "cell_type": "code",
   "execution_count": 150,
   "id": "ddd08340",
   "metadata": {},
   "outputs": [
    {
     "data": {
      "text/html": [
       "<style>#sk-container-id-2 {color: black;background-color: white;}#sk-container-id-2 pre{padding: 0;}#sk-container-id-2 div.sk-toggleable {background-color: white;}#sk-container-id-2 label.sk-toggleable__label {cursor: pointer;display: block;width: 100%;margin-bottom: 0;padding: 0.3em;box-sizing: border-box;text-align: center;}#sk-container-id-2 label.sk-toggleable__label-arrow:before {content: \"▸\";float: left;margin-right: 0.25em;color: #696969;}#sk-container-id-2 label.sk-toggleable__label-arrow:hover:before {color: black;}#sk-container-id-2 div.sk-estimator:hover label.sk-toggleable__label-arrow:before {color: black;}#sk-container-id-2 div.sk-toggleable__content {max-height: 0;max-width: 0;overflow: hidden;text-align: left;background-color: #f0f8ff;}#sk-container-id-2 div.sk-toggleable__content pre {margin: 0.2em;color: black;border-radius: 0.25em;background-color: #f0f8ff;}#sk-container-id-2 input.sk-toggleable__control:checked~div.sk-toggleable__content {max-height: 200px;max-width: 100%;overflow: auto;}#sk-container-id-2 input.sk-toggleable__control:checked~label.sk-toggleable__label-arrow:before {content: \"▾\";}#sk-container-id-2 div.sk-estimator input.sk-toggleable__control:checked~label.sk-toggleable__label {background-color: #d4ebff;}#sk-container-id-2 div.sk-label input.sk-toggleable__control:checked~label.sk-toggleable__label {background-color: #d4ebff;}#sk-container-id-2 input.sk-hidden--visually {border: 0;clip: rect(1px 1px 1px 1px);clip: rect(1px, 1px, 1px, 1px);height: 1px;margin: -1px;overflow: hidden;padding: 0;position: absolute;width: 1px;}#sk-container-id-2 div.sk-estimator {font-family: monospace;background-color: #f0f8ff;border: 1px dotted black;border-radius: 0.25em;box-sizing: border-box;margin-bottom: 0.5em;}#sk-container-id-2 div.sk-estimator:hover {background-color: #d4ebff;}#sk-container-id-2 div.sk-parallel-item::after {content: \"\";width: 100%;border-bottom: 1px solid gray;flex-grow: 1;}#sk-container-id-2 div.sk-label:hover label.sk-toggleable__label {background-color: #d4ebff;}#sk-container-id-2 div.sk-serial::before {content: \"\";position: absolute;border-left: 1px solid gray;box-sizing: border-box;top: 0;bottom: 0;left: 50%;z-index: 0;}#sk-container-id-2 div.sk-serial {display: flex;flex-direction: column;align-items: center;background-color: white;padding-right: 0.2em;padding-left: 0.2em;position: relative;}#sk-container-id-2 div.sk-item {position: relative;z-index: 1;}#sk-container-id-2 div.sk-parallel {display: flex;align-items: stretch;justify-content: center;background-color: white;position: relative;}#sk-container-id-2 div.sk-item::before, #sk-container-id-2 div.sk-parallel-item::before {content: \"\";position: absolute;border-left: 1px solid gray;box-sizing: border-box;top: 0;bottom: 0;left: 50%;z-index: -1;}#sk-container-id-2 div.sk-parallel-item {display: flex;flex-direction: column;z-index: 1;position: relative;background-color: white;}#sk-container-id-2 div.sk-parallel-item:first-child::after {align-self: flex-end;width: 50%;}#sk-container-id-2 div.sk-parallel-item:last-child::after {align-self: flex-start;width: 50%;}#sk-container-id-2 div.sk-parallel-item:only-child::after {width: 0;}#sk-container-id-2 div.sk-dashed-wrapped {border: 1px dashed gray;margin: 0 0.4em 0.5em 0.4em;box-sizing: border-box;padding-bottom: 0.4em;background-color: white;}#sk-container-id-2 div.sk-label label {font-family: monospace;font-weight: bold;display: inline-block;line-height: 1.2em;}#sk-container-id-2 div.sk-label-container {text-align: center;}#sk-container-id-2 div.sk-container {/* jupyter's `normalize.less` sets `[hidden] { display: none; }` but bootstrap.min.css set `[hidden] { display: none !important; }` so we also need the `!important` here to be able to override the default hidden behavior on the sphinx rendered scikit-learn.org. See: https://github.com/scikit-learn/scikit-learn/issues/21755 */display: inline-block !important;position: relative;}#sk-container-id-2 div.sk-text-repr-fallback {display: none;}</style><div id=\"sk-container-id-2\" class=\"sk-top-container\"><div class=\"sk-text-repr-fallback\"><pre>DecisionTreeClassifier()</pre><b>In a Jupyter environment, please rerun this cell to show the HTML representation or trust the notebook. <br />On GitHub, the HTML representation is unable to render, please try loading this page with nbviewer.org.</b></div><div class=\"sk-container\" hidden><div class=\"sk-item\"><div class=\"sk-estimator sk-toggleable\"><input class=\"sk-toggleable__control sk-hidden--visually\" id=\"sk-estimator-id-2\" type=\"checkbox\" checked><label for=\"sk-estimator-id-2\" class=\"sk-toggleable__label sk-toggleable__label-arrow\">DecisionTreeClassifier</label><div class=\"sk-toggleable__content\"><pre>DecisionTreeClassifier()</pre></div></div></div></div></div>"
      ],
      "text/plain": [
       "DecisionTreeClassifier()"
      ]
     },
     "execution_count": 150,
     "metadata": {},
     "output_type": "execute_result"
    }
   ],
   "source": [
    "dt.fit(X_train, y_train)"
   ]
  },
  {
   "cell_type": "code",
   "execution_count": 151,
   "id": "da11ebf6",
   "metadata": {},
   "outputs": [],
   "source": [
    "test = dt.predict(X_test)"
   ]
  },
  {
   "cell_type": "code",
   "execution_count": 152,
   "id": "fe1def64",
   "metadata": {},
   "outputs": [
    {
     "data": {
      "text/plain": [
       "array(['[Civil,Mech,Electronics,Electrical]', '[Not Eligible]',\n",
       "       '[CS,Civil,Mech,Electronics,Electrical]', '[Civil]',\n",
       "       '[CS,Civil,Mech,Electronics,Electrical]', '[Civil]',\n",
       "       '[Civil,Mech,Electrical]', '[Not Eligible]', '[Not Eligible]',\n",
       "       '[Civil,Mech,Electronics,Electrical]',\n",
       "       '[Civil,Mech,Electronics,Electrical]',\n",
       "       '[CS,Civil,Mech,Electronics,Electrical]',\n",
       "       '[Civil,Mech,Electronics,Electrical]', '[Civil,Mech,Electrical]',\n",
       "       '[Not Eligible]', '[Civil,Mech,Electrical]',\n",
       "       '[CS,Civil,Mech,Electronics,Electrical]', '[Not Eligible]',\n",
       "       '[CS,Civil,Mech,Electronics,Electrical]', '[Not Eligible]',\n",
       "       '[Civil,Electrical]', '[Civil,Mech,Electrical]',\n",
       "       '[Civil,Electrical]', '[Civil]', '[Not Eligible]',\n",
       "       '[Not Eligible]', '[Not Eligible]', '[Civil,Mech,Electrical]',\n",
       "       '[Not Eligible]', '[Not Eligible]', '[Not Eligible]',\n",
       "       '[Civil,Electrical]', '[Not Eligible]', '[Not Eligible]',\n",
       "       '[Civil,Mech,Electronics,Electrical]', '[Not Eligible]',\n",
       "       '[Not Eligible]', '[Civil,Mech,Electronics,Electrical]',\n",
       "       '[Not Eligible]', '[Civil,Mech,Electrical]', '[Not Eligible]',\n",
       "       '[Civil,Mech,Electrical]', '[Civil,Mech,Electronics,Electrical]',\n",
       "       '[Civil,Mech,Electronics,Electrical]', '[Not Eligible]',\n",
       "       '[Civil,Mech,Electronics,Electrical]',\n",
       "       '[CS,Civil,Mech,Electronics,Electrical]', '[Not Eligible]',\n",
       "       '[CS,Civil,Mech,Electronics,Electrical]', '[Civil,Electrical]',\n",
       "       '[Not Eligible]', '[Not Eligible]', '[Civil,Mech,Electrical]',\n",
       "       '[Not Eligible]', '[Civil,Mech,Electronics,Electrical]',\n",
       "       '[Civil,Mech,Electrical]', '[Civil,Electrical]',\n",
       "       '[Civil,Mech,Electronics,Electrical]', '[Not Eligible]',\n",
       "       '[Not Eligible]', '[Civil]', '[Not Eligible]', '[Not Eligible]',\n",
       "       '[CS,Civil,Mech,Electronics,Electrical]', '[Not Eligible]',\n",
       "       '[Civil,Electrical]', '[Civil,Mech,Electronics,Electrical]',\n",
       "       '[Civil,Electrical]', '[Civil,Mech,Electronics,Electrical]',\n",
       "       '[Not Eligible]', '[CS,Civil,Mech,Electronics,Electrical]',\n",
       "       '[Civil,Electrical]', '[Not Eligible]',\n",
       "       '[CS,Civil,Mech,Electronics,Electrical]',\n",
       "       '[Civil,Mech,Electronics,Electrical]',\n",
       "       '[CS,Civil,Mech,Electronics,Electrical]', '[Not Eligible]',\n",
       "       '[Not Eligible]', '[Civil,Electrical]', '[Not Eligible]',\n",
       "       '[Civil,Mech,Electronics,Electrical]',\n",
       "       '[Civil,Mech,Electronics,Electrical]', '[Not Eligible]',\n",
       "       '[Not Eligible]', '[Not Eligible]', '[Not Eligible]',\n",
       "       '[Civil,Mech,Electronics,Electrical]', '[Civil]', '[Not Eligible]',\n",
       "       '[Not Eligible]', '[Not Eligible]', '[Not Eligible]',\n",
       "       '[Not Eligible]', '[Not Eligible]', '[Not Eligible]',\n",
       "       '[Not Eligible]', '[Civil,Mech,Electrical]',\n",
       "       '[CS,Civil,Mech,Electronics,Electrical]',\n",
       "       '[CS,Civil,Mech,Electronics,Electrical]',\n",
       "       '[Civil,Mech,Electronics,Electrical]', '[Not Eligible]',\n",
       "       '[CS,Civil,Mech,Electronics,Electrical]', '[Civil]',\n",
       "       '[CS,Civil,Mech,Electronics,Electrical]', '[Civil]', '[Civil]',\n",
       "       '[CS,Civil,Mech,Electronics,Electrical]', '[Not Eligible]',\n",
       "       '[CS,Civil,Mech,Electronics,Electrical]',\n",
       "       '[CS,Civil,Mech,Electronics,Electrical]',\n",
       "       '[CS,Civil,Mech,Electronics,Electrical]',\n",
       "       '[Civil,Mech,Electronics,Electrical]', '[Civil]',\n",
       "       '[Civil,Mech,Electronics,Electrical]',\n",
       "       '[Civil,Mech,Electronics,Electrical]', '[Not Eligible]',\n",
       "       '[Not Eligible]', '[Civil]', '[Not Eligible]', '[Not Eligible]',\n",
       "       '[Civil,Mech,Electronics,Electrical]', '[Not Eligible]',\n",
       "       '[Not Eligible]', '[Not Eligible]', '[Not Eligible]',\n",
       "       '[Not Eligible]', '[CS,Civil,Mech,Electronics,Electrical]',\n",
       "       '[Civil,Mech,Electronics,Electrical]', '[Not Eligible]',\n",
       "       '[Not Eligible]', '[Civil]', '[Civil,Mech,Electronics,Electrical]',\n",
       "       '[CS,Civil,Mech,Electronics,Electrical]', '[Not Eligible]',\n",
       "       '[CS,Civil,Mech,Electronics,Electrical]',\n",
       "       '[Civil,Mech,Electronics,Electrical]', '[Not Eligible]',\n",
       "       '[Not Eligible]', '[Civil,Mech,Electrical]',\n",
       "       '[Civil,Mech,Electrical]', '[Not Eligible]', '[Not Eligible]',\n",
       "       '[Not Eligible]', '[Civil]', '[Civil,Electrical]',\n",
       "       '[Civil,Mech,Electronics,Electrical]',\n",
       "       '[CS,Civil,Mech,Electronics,Electrical]', '[Civil]',\n",
       "       '[Not Eligible]', '[Not Eligible]', '[Not Eligible]',\n",
       "       '[Not Eligible]', '[Not Eligible]', '[Civil]', '[Not Eligible]',\n",
       "       '[Not Eligible]', '[Civil,Electrical]', '[Not Eligible]',\n",
       "       '[CS,Civil,Mech,Electronics,Electrical]', '[Not Eligible]',\n",
       "       '[Civil,Mech,Electronics,Electrical]', '[Not Eligible]',\n",
       "       '[Civil,Mech,Electronics,Electrical]',\n",
       "       '[Civil,Mech,Electronics,Electrical]',\n",
       "       '[CS,Civil,Mech,Electronics,Electrical]', '[Not Eligible]',\n",
       "       '[Civil,Mech,Electronics,Electrical]', '[Not Eligible]',\n",
       "       '[Not Eligible]', '[Not Eligible]',\n",
       "       '[CS,Civil,Mech,Electronics,Electrical]', '[Not Eligible]',\n",
       "       '[Civil,Mech,Electronics,Electrical]', '[Not Eligible]',\n",
       "       '[CS,Civil,Mech,Electronics,Electrical]', '[Civil,Electrical]',\n",
       "       '[Civil,Mech,Electronics,Electrical]', '[Civil]', '[Not Eligible]',\n",
       "       '[Not Eligible]', '[CS,Civil,Mech,Electronics,Electrical]',\n",
       "       '[CS,Civil,Mech,Electronics,Electrical]', '[Not Eligible]',\n",
       "       '[Not Eligible]', '[Civil]', '[Civil,Mech,Electrical]',\n",
       "       '[Civil,Electrical]', '[Not Eligible]', '[Not Eligible]',\n",
       "       '[CS,Civil,Mech,Electronics,Electrical]',\n",
       "       '[CS,Civil,Mech,Electronics,Electrical]', '[Civil,Electrical]',\n",
       "       '[Not Eligible]', '[CS,Civil,Mech,Electronics,Electrical]',\n",
       "       '[Civil,Mech,Electrical]', '[Not Eligible]', '[Civil]', '[Civil]',\n",
       "       '[Not Eligible]', '[Not Eligible]',\n",
       "       '[CS,Civil,Mech,Electronics,Electrical]',\n",
       "       '[Civil,Mech,Electronics,Electrical]', '[Civil]', '[Not Eligible]',\n",
       "       '[Civil]', '[Civil,Mech,Electronics,Electrical]', '[Not Eligible]',\n",
       "       '[Civil,Mech,Electronics,Electrical]',\n",
       "       '[CS,Civil,Mech,Electronics,Electrical]',\n",
       "       '[Civil,Mech,Electronics,Electrical]'], dtype=object)"
      ]
     },
     "execution_count": 152,
     "metadata": {},
     "output_type": "execute_result"
    }
   ],
   "source": [
    "test"
   ]
  },
  {
   "cell_type": "code",
   "execution_count": 153,
   "id": "1a814256",
   "metadata": {},
   "outputs": [
    {
     "data": {
      "text/html": [
       "<div>\n",
       "<style scoped>\n",
       "    .dataframe tbody tr th:only-of-type {\n",
       "        vertical-align: middle;\n",
       "    }\n",
       "\n",
       "    .dataframe tbody tr th {\n",
       "        vertical-align: top;\n",
       "    }\n",
       "\n",
       "    .dataframe thead th {\n",
       "        text-align: right;\n",
       "    }\n",
       "</style>\n",
       "<table border=\"1\" class=\"dataframe\">\n",
       "  <thead>\n",
       "    <tr style=\"text-align: right;\">\n",
       "      <th></th>\n",
       "      <th>Department</th>\n",
       "    </tr>\n",
       "  </thead>\n",
       "  <tbody>\n",
       "    <tr>\n",
       "      <th>617</th>\n",
       "      <td>[Not Eligible]</td>\n",
       "    </tr>\n",
       "    <tr>\n",
       "      <th>289</th>\n",
       "      <td>[Not Eligible]</td>\n",
       "    </tr>\n",
       "    <tr>\n",
       "      <th>505</th>\n",
       "      <td>[CS,Civil,Mech,Electronics,Electrical]</td>\n",
       "    </tr>\n",
       "    <tr>\n",
       "      <th>75</th>\n",
       "      <td>[Civil]</td>\n",
       "    </tr>\n",
       "    <tr>\n",
       "      <th>441</th>\n",
       "      <td>[CS,Civil,Mech,Electronics,Electrical]</td>\n",
       "    </tr>\n",
       "    <tr>\n",
       "      <th>...</th>\n",
       "      <td>...</td>\n",
       "    </tr>\n",
       "    <tr>\n",
       "      <th>613</th>\n",
       "      <td>[Civil,Mech,Electrical]</td>\n",
       "    </tr>\n",
       "    <tr>\n",
       "      <th>73</th>\n",
       "      <td>[Not Eligible]</td>\n",
       "    </tr>\n",
       "    <tr>\n",
       "      <th>385</th>\n",
       "      <td>[Civil,Mech,Electronics,Electrical]</td>\n",
       "    </tr>\n",
       "    <tr>\n",
       "      <th>470</th>\n",
       "      <td>[CS,Civil,Mech,Electronics,Electrical]</td>\n",
       "    </tr>\n",
       "    <tr>\n",
       "      <th>48</th>\n",
       "      <td>[Civil,Mech,Electronics,Electrical]</td>\n",
       "    </tr>\n",
       "  </tbody>\n",
       "</table>\n",
       "<p>210 rows × 1 columns</p>\n",
       "</div>"
      ],
      "text/plain": [
       "                                 Department\n",
       "617                          [Not Eligible]\n",
       "289                          [Not Eligible]\n",
       "505  [CS,Civil,Mech,Electronics,Electrical]\n",
       "75                                  [Civil]\n",
       "441  [CS,Civil,Mech,Electronics,Electrical]\n",
       "..                                      ...\n",
       "613                 [Civil,Mech,Electrical]\n",
       "73                           [Not Eligible]\n",
       "385     [Civil,Mech,Electronics,Electrical]\n",
       "470  [CS,Civil,Mech,Electronics,Electrical]\n",
       "48      [Civil,Mech,Electronics,Electrical]\n",
       "\n",
       "[210 rows x 1 columns]"
      ]
     },
     "execution_count": 153,
     "metadata": {},
     "output_type": "execute_result"
    }
   ],
   "source": [
    "y_test"
   ]
  },
  {
   "cell_type": "code",
   "execution_count": 154,
   "id": "5fa4744a",
   "metadata": {},
   "outputs": [],
   "source": [
    "from sklearn.metrics import accuracy_score, confusion_matrix, classification_report"
   ]
  },
  {
   "cell_type": "code",
   "execution_count": 155,
   "id": "f36af751",
   "metadata": {},
   "outputs": [],
   "source": [
    "accuracy = accuracy_score(y_test, test)"
   ]
  },
  {
   "cell_type": "code",
   "execution_count": 156,
   "id": "036f82f5",
   "metadata": {},
   "outputs": [
    {
     "data": {
      "text/plain": [
       "0.8523809523809524"
      ]
     },
     "execution_count": 156,
     "metadata": {},
     "output_type": "execute_result"
    }
   ],
   "source": [
    "accuracy"
   ]
  },
  {
   "cell_type": "markdown",
   "id": "98079b8b",
   "metadata": {},
   "source": [
    "# Save model For Implementation"
   ]
  },
  {
   "cell_type": "code",
   "execution_count": 157,
   "id": "6be2b451",
   "metadata": {},
   "outputs": [],
   "source": [
    "import joblib"
   ]
  },
  {
   "cell_type": "code",
   "execution_count": 158,
   "id": "bd74ea44",
   "metadata": {},
   "outputs": [
    {
     "data": {
      "text/plain": [
       "['counselling_mod.joblib']"
      ]
     },
     "execution_count": 158,
     "metadata": {},
     "output_type": "execute_result"
    }
   ],
   "source": [
    "joblib.dump(dt,'counselling_mod.joblib')"
   ]
  },
  {
   "cell_type": "code",
   "execution_count": 102,
   "id": "1345024f",
   "metadata": {},
   "outputs": [],
   "source": [
    "from sklearn.metrics import plot_confusion_matrix\n",
    "from matplotlib import pyplot as plt"
   ]
  },
  {
   "cell_type": "code",
   "execution_count": 103,
   "id": "be1c8fd7",
   "metadata": {},
   "outputs": [
    {
     "data": {
      "text/plain": [
       "array([[21,  0,  0,  1,  1,  2],\n",
       "       [ 0, 16,  2,  0,  2,  0],\n",
       "       [ 0,  1, 10,  2,  1,  1],\n",
       "       [ 0,  0,  0, 36,  0,  3],\n",
       "       [ 1,  0,  0,  0, 19,  1],\n",
       "       [ 3,  0,  5,  5,  1, 76]], dtype=int64)"
      ]
     },
     "execution_count": 103,
     "metadata": {},
     "output_type": "execute_result"
    }
   ],
   "source": [
    "c_matrix = confusion_matrix(y_test, test)\n",
    "c_matrix"
   ]
  },
  {
   "cell_type": "code",
   "execution_count": 104,
   "id": "97c33ac4",
   "metadata": {},
   "outputs": [
    {
     "name": "stderr",
     "output_type": "stream",
     "text": [
      "C:\\Users\\vishn\\AppData\\Local\\Programs\\Python\\Python39\\lib\\site-packages\\sklearn\\utils\\deprecation.py:87: FutureWarning: Function plot_confusion_matrix is deprecated; Function `plot_confusion_matrix` is deprecated in 1.0 and will be removed in 1.2. Use one of the class methods: ConfusionMatrixDisplay.from_predictions or ConfusionMatrixDisplay.from_estimator.\n",
      "  warnings.warn(msg, category=FutureWarning)\n"
     ]
    },
    {
     "data": {
      "text/plain": [
       "<sklearn.metrics._plot.confusion_matrix.ConfusionMatrixDisplay at 0x17fabe52c40>"
      ]
     },
     "execution_count": 104,
     "metadata": {},
     "output_type": "execute_result"
    },
    {
     "data": {
      "image/png": "[encoded data removed]",
      "text/plain": [
       "<Figure size 432x288 with 2 Axes>"
      ]
     },
     "metadata": {
      "needs_background": "light"
     },
     "output_type": "display_data"
    }
   ],
   "source": [
    "plot_confusion_matrix(dt, X_test, y_test)"
   ]
  },
  {
   "cell_type": "code",
   "execution_count": 105,
   "id": "7521dccc",
   "metadata": {},
   "outputs": [
    {
     "name": "stdout",
     "output_type": "stream",
     "text": [
      "                                        precision    recall  f1-score   support\n",
      "\n",
      "[CS,Civil,Mech,Electronics,Electrical]       0.84      0.84      0.84        25\n",
      "                    [Civil,Electrical]       0.94      0.80      0.86        20\n",
      "               [Civil,Mech,Electrical]       0.59      0.67      0.62        15\n",
      "   [Civil,Mech,Electronics,Electrical]       0.82      0.92      0.87        39\n",
      "                               [Civil]       0.79      0.90      0.84        21\n",
      "                        [Not Eligible]       0.92      0.84      0.88        90\n",
      "\n",
      "                              accuracy                           0.85       210\n",
      "                             macro avg       0.82      0.83      0.82       210\n",
      "                          weighted avg       0.86      0.85      0.85       210\n",
      "\n"
     ]
    }
   ],
   "source": [
    "print(classification_report(y_test, test))"
   ]
  },
  {
   "cell_type": "markdown",
   "id": "80775fca",
   "metadata": {},
   "source": [
    "# K-NN classifier"
   ]
  },
  {
   "cell_type": "code",
   "execution_count": 34,
   "id": "90e97dfc",
   "metadata": {},
   "outputs": [],
   "source": [
    "from sklearn.model_selection import train_test_split  \n",
    "x_train, x_test, y_train, y_test= train_test_split(X, y, test_size= 0.30, random_state=0)  "
   ]
  },
  {
   "cell_type": "code",
   "execution_count": 35,
   "id": "8a780f70",
   "metadata": {},
   "outputs": [],
   "source": [
    "from sklearn.preprocessing import StandardScaler  \n",
    "from sklearn.neighbors import KNeighborsClassifier  "
   ]
  },
  {
   "cell_type": "markdown",
   "id": "f5a7e0f9",
   "metadata": {},
   "source": [
    "# feature Scaling"
   ]
  },
  {
   "cell_type": "code",
   "execution_count": 36,
   "id": "af62a9dc",
   "metadata": {},
   "outputs": [],
   "source": [
    "st_x= StandardScaler()    \n",
    "x_train= st_x.fit_transform(x_train)    \n",
    "x_test= st_x.transform(x_test)"
   ]
  },
  {
   "cell_type": "code",
   "execution_count": 37,
   "id": "b743915b",
   "metadata": {},
   "outputs": [
    {
     "name": "stderr",
     "output_type": "stream",
     "text": [
      "C:\\Users\\vishn\\AppData\\Local\\Programs\\Python\\Python39\\lib\\site-packages\\sklearn\\neighbors\\_classification.py:200: DataConversionWarning: A column-vector y was passed when a 1d array was expected. Please change the shape of y to (n_samples,), for example using ravel().\n",
      "  return self._fit(X, y)\n"
     ]
    },
    {
     "data": {
      "text/html": [
       "<style>#sk-container-id-2 {color: black;background-color: white;}#sk-container-id-2 pre{padding: 0;}#sk-container-id-2 div.sk-toggleable {background-color: white;}#sk-container-id-2 label.sk-toggleable__label {cursor: pointer;display: block;width: 100%;margin-bottom: 0;padding: 0.3em;box-sizing: border-box;text-align: center;}#sk-container-id-2 label.sk-toggleable__label-arrow:before {content: \"▸\";float: left;margin-right: 0.25em;color: #696969;}#sk-container-id-2 label.sk-toggleable__label-arrow:hover:before {color: black;}#sk-container-id-2 div.sk-estimator:hover label.sk-toggleable__label-arrow:before {color: black;}#sk-container-id-2 div.sk-toggleable__content {max-height: 0;max-width: 0;overflow: hidden;text-align: left;background-color: #f0f8ff;}#sk-container-id-2 div.sk-toggleable__content pre {margin: 0.2em;color: black;border-radius: 0.25em;background-color: #f0f8ff;}#sk-container-id-2 input.sk-toggleable__control:checked~div.sk-toggleable__content {max-height: 200px;max-width: 100%;overflow: auto;}#sk-container-id-2 input.sk-toggleable__control:checked~label.sk-toggleable__label-arrow:before {content: \"▾\";}#sk-container-id-2 div.sk-estimator input.sk-toggleable__control:checked~label.sk-toggleable__label {background-color: #d4ebff;}#sk-container-id-2 div.sk-label input.sk-toggleable__control:checked~label.sk-toggleable__label {background-color: #d4ebff;}#sk-container-id-2 input.sk-hidden--visually {border: 0;clip: rect(1px 1px 1px 1px);clip: rect(1px, 1px, 1px, 1px);height: 1px;margin: -1px;overflow: hidden;padding: 0;position: absolute;width: 1px;}#sk-container-id-2 div.sk-estimator {font-family: monospace;background-color: #f0f8ff;border: 1px dotted black;border-radius: 0.25em;box-sizing: border-box;margin-bottom: 0.5em;}#sk-container-id-2 div.sk-estimator:hover {background-color: #d4ebff;}#sk-container-id-2 div.sk-parallel-item::after {content: \"\";width: 100%;border-bottom: 1px solid gray;flex-grow: 1;}#sk-container-id-2 div.sk-label:hover label.sk-toggleable__label {background-color: #d4ebff;}#sk-container-id-2 div.sk-serial::before {content: \"\";position: absolute;border-left: 1px solid gray;box-sizing: border-box;top: 0;bottom: 0;left: 50%;z-index: 0;}#sk-container-id-2 div.sk-serial {display: flex;flex-direction: column;align-items: center;background-color: white;padding-right: 0.2em;padding-left: 0.2em;position: relative;}#sk-container-id-2 div.sk-item {position: relative;z-index: 1;}#sk-container-id-2 div.sk-parallel {display: flex;align-items: stretch;justify-content: center;background-color: white;position: relative;}#sk-container-id-2 div.sk-item::before, #sk-container-id-2 div.sk-parallel-item::before {content: \"\";position: absolute;border-left: 1px solid gray;box-sizing: border-box;top: 0;bottom: 0;left: 50%;z-index: -1;}#sk-container-id-2 div.sk-parallel-item {display: flex;flex-direction: column;z-index: 1;position: relative;background-color: white;}#sk-container-id-2 div.sk-parallel-item:first-child::after {align-self: flex-end;width: 50%;}#sk-container-id-2 div.sk-parallel-item:last-child::after {align-self: flex-start;width: 50%;}#sk-container-id-2 div.sk-parallel-item:only-child::after {width: 0;}#sk-container-id-2 div.sk-dashed-wrapped {border: 1px dashed gray;margin: 0 0.4em 0.5em 0.4em;box-sizing: border-box;padding-bottom: 0.4em;background-color: white;}#sk-container-id-2 div.sk-label label {font-family: monospace;font-weight: bold;display: inline-block;line-height: 1.2em;}#sk-container-id-2 div.sk-label-container {text-align: center;}#sk-container-id-2 div.sk-container {/* jupyter's `normalize.less` sets `[hidden] { display: none; }` but bootstrap.min.css set `[hidden] { display: none !important; }` so we also need the `!important` here to be able to override the default hidden behavior on the sphinx rendered scikit-learn.org. See: https://github.com/scikit-learn/scikit-learn/issues/21755 */display: inline-block !important;position: relative;}#sk-container-id-2 div.sk-text-repr-fallback {display: none;}</style><div id=\"sk-container-id-2\" class=\"sk-top-container\"><div class=\"sk-text-repr-fallback\"><pre>KNeighborsClassifier()</pre><b>In a Jupyter environment, please rerun this cell to show the HTML representation or trust the notebook. <br />On GitHub, the HTML representation is unable to render, please try loading this page with nbviewer.org.</b></div><div class=\"sk-container\" hidden><div class=\"sk-item\"><div class=\"sk-estimator sk-toggleable\"><input class=\"sk-toggleable__control sk-hidden--visually\" id=\"sk-estimator-id-2\" type=\"checkbox\" checked><label for=\"sk-estimator-id-2\" class=\"sk-toggleable__label sk-toggleable__label-arrow\">KNeighborsClassifier</label><div class=\"sk-toggleable__content\"><pre>KNeighborsClassifier()</pre></div></div></div></div></div>"
      ],
      "text/plain": [
       "KNeighborsClassifier()"
      ]
     },
     "execution_count": 37,
     "metadata": {},
     "output_type": "execute_result"
    }
   ],
   "source": [
    "classifier= KNeighborsClassifier(n_neighbors=5, metric='minkowski', p=2 )  \n",
    "classifier.fit(x_train, y_train)  "
   ]
  },
  {
   "cell_type": "code",
   "execution_count": 38,
   "id": "2ea6ad1c",
   "metadata": {},
   "outputs": [],
   "source": [
    "y_pred= classifier.predict(x_test) "
   ]
  },
  {
   "cell_type": "code",
   "execution_count": 39,
   "id": "f12ed0bc",
   "metadata": {},
   "outputs": [
    {
     "data": {
      "text/plain": [
       "array(['[Not Eligible]', '[Civil,Mech,Electrical]', '[Not Eligible]',\n",
       "       '[Not Eligible]', '[Civil,Electrical]', '[Civil]',\n",
       "       '[Civil,Mech,Electronics,Electrical]', '[Not Eligible]',\n",
       "       '[Not Eligible]', '[CS,Civil,Mech,Electronics,Electrical]',\n",
       "       '[CS,Civil,Mech,Electronics,Electrical]',\n",
       "       '[Civil,Mech,Electrical]', '[Civil,Electrical]',\n",
       "       '[Civil,Mech,Electronics,Electrical]',\n",
       "       '[CS,Civil,Mech,Electronics,Electrical]',\n",
       "       '[Civil,Mech,Electronics,Electrical]', '[Not Eligible]',\n",
       "       '[CS,Civil,Mech,Electronics,Electrical]', '[Civil]',\n",
       "       '[Not Eligible]', '[Civil]', '[Not Eligible]', '[Not Eligible]',\n",
       "       '[Civil,Mech,Electronics,Electrical]',\n",
       "       '[Civil,Mech,Electronics,Electrical]', '[Not Eligible]',\n",
       "       '[Not Eligible]', '[Civil,Mech,Electronics,Electrical]',\n",
       "       '[Civil,Mech,Electronics,Electrical]', '[Not Eligible]',\n",
       "       '[Not Eligible]', '[Not Eligible]', '[Civil,Mech,Electrical]',\n",
       "       '[Civil,Electrical]', '[Civil,Mech,Electronics,Electrical]',\n",
       "       '[Civil]', '[Not Eligible]', '[Civil,Mech,Electronics,Electrical]',\n",
       "       '[Civil,Mech,Electronics,Electrical]', '[Civil]', '[Not Eligible]',\n",
       "       '[Not Eligible]', '[CS,Civil,Mech,Electronics,Electrical]',\n",
       "       '[Not Eligible]', '[Civil,Mech,Electronics,Electrical]',\n",
       "       '[Civil,Mech,Electrical]', '[Civil,Mech,Electrical]',\n",
       "       '[Not Eligible]', '[CS,Civil,Mech,Electronics,Electrical]',\n",
       "       '[Not Eligible]', '[Not Eligible]',\n",
       "       '[CS,Civil,Mech,Electronics,Electrical]', '[Not Eligible]',\n",
       "       '[Civil,Mech,Electronics,Electrical]',\n",
       "       '[Civil,Mech,Electronics,Electrical]', '[Not Eligible]',\n",
       "       '[Not Eligible]', '[Civil]', '[Not Eligible]', '[Not Eligible]',\n",
       "       '[Civil,Mech,Electrical]', '[Not Eligible]',\n",
       "       '[Civil,Mech,Electrical]', '[Not Eligible]', '[Not Eligible]',\n",
       "       '[Not Eligible]', '[Not Eligible]', '[Civil,Electrical]',\n",
       "       '[Civil]', '[Civil,Mech,Electronics,Electrical]', '[Not Eligible]',\n",
       "       '[Not Eligible]', '[Civil,Mech,Electronics,Electrical]', '[Civil]',\n",
       "       '[Not Eligible]', '[Not Eligible]', '[Civil,Mech,Electrical]',\n",
       "       '[Not Eligible]', '[CS,Civil,Mech,Electronics,Electrical]',\n",
       "       '[Not Eligible]', '[Civil,Mech,Electrical]', '[Not Eligible]',\n",
       "       '[Civil]', '[Civil,Electrical]', '[Civil]', '[Not Eligible]',\n",
       "       '[CS,Civil,Mech,Electronics,Electrical]', '[Civil]',\n",
       "       '[Civil,Mech,Electronics,Electrical]', '[Not Eligible]',\n",
       "       '[CS,Civil,Mech,Electronics,Electrical]', '[Not Eligible]',\n",
       "       '[Not Eligible]', '[Civil,Mech,Electronics,Electrical]',\n",
       "       '[Civil,Mech,Electronics,Electrical]', '[Not Eligible]',\n",
       "       '[Civil,Mech,Electronics,Electrical]', '[Not Eligible]',\n",
       "       '[Civil,Electrical]', '[Not Eligible]', '[Not Eligible]',\n",
       "       '[Not Eligible]', '[Civil,Mech,Electronics,Electrical]',\n",
       "       '[Civil,Electrical]', '[Not Eligible]', '[Not Eligible]',\n",
       "       '[Civil,Electrical]', '[Not Eligible]', '[Not Eligible]',\n",
       "       '[Civil]', '[Civil,Electrical]', '[Not Eligible]',\n",
       "       '[Civil,Mech,Electronics,Electrical]',\n",
       "       '[Civil,Mech,Electronics,Electrical]', '[Not Eligible]',\n",
       "       '[Not Eligible]', '[Civil,Mech,Electronics,Electrical]',\n",
       "       '[CS,Civil,Mech,Electronics,Electrical]',\n",
       "       '[Civil,Mech,Electronics,Electrical]', '[Not Eligible]',\n",
       "       '[Civil,Mech,Electronics,Electrical]',\n",
       "       '[CS,Civil,Mech,Electronics,Electrical]',\n",
       "       '[Civil,Mech,Electronics,Electrical]', '[Civil,Electrical]',\n",
       "       '[CS,Civil,Mech,Electronics,Electrical]', '[Not Eligible]',\n",
       "       '[Not Eligible]', '[CS,Civil,Mech,Electronics,Electrical]',\n",
       "       '[Not Eligible]', '[Civil,Electrical]', '[Not Eligible]',\n",
       "       '[Not Eligible]', '[Civil,Mech,Electronics,Electrical]',\n",
       "       '[Not Eligible]', '[Civil,Mech,Electrical]',\n",
       "       '[Civil,Mech,Electrical]', '[Civil]',\n",
       "       '[CS,Civil,Mech,Electronics,Electrical]',\n",
       "       '[CS,Civil,Mech,Electronics,Electrical]', '[Civil]',\n",
       "       '[CS,Civil,Mech,Electronics,Electrical]',\n",
       "       '[CS,Civil,Mech,Electronics,Electrical]',\n",
       "       '[Civil,Mech,Electronics,Electrical]', '[Civil,Mech,Electrical]',\n",
       "       '[Not Eligible]', '[Not Eligible]', '[Civil,Mech,Electrical]',\n",
       "       '[Not Eligible]', '[Civil,Mech,Electrical]',\n",
       "       '[CS,Civil,Mech,Electronics,Electrical]',\n",
       "       '[Civil,Mech,Electronics,Electrical]', '[Not Eligible]',\n",
       "       '[Civil,Electrical]', '[Not Eligible]',\n",
       "       '[Civil,Mech,Electronics,Electrical]', '[Civil,Mech,Electrical]',\n",
       "       '[Not Eligible]', '[Not Eligible]',\n",
       "       '[Civil,Mech,Electronics,Electrical]', '[Not Eligible]',\n",
       "       '[Civil,Mech,Electronics,Electrical]',\n",
       "       '[CS,Civil,Mech,Electronics,Electrical]', '[Civil,Electrical]',\n",
       "       '[Not Eligible]', '[CS,Civil,Mech,Electronics,Electrical]',\n",
       "       '[Not Eligible]', '[Civil,Mech,Electronics,Electrical]',\n",
       "       '[Civil,Mech,Electronics,Electrical]', '[Civil]', '[Not Eligible]',\n",
       "       '[CS,Civil,Mech,Electronics,Electrical]',\n",
       "       '[Civil,Mech,Electrical]',\n",
       "       '[CS,Civil,Mech,Electronics,Electrical]',\n",
       "       '[Civil,Mech,Electrical]', '[Not Eligible]', '[Not Eligible]',\n",
       "       '[Not Eligible]', '[Not Eligible]',\n",
       "       '[CS,Civil,Mech,Electronics,Electrical]', '[Civil]',\n",
       "       '[CS,Civil,Mech,Electronics,Electrical]',\n",
       "       '[CS,Civil,Mech,Electronics,Electrical]', '[Not Eligible]',\n",
       "       '[Civil,Electrical]', '[Not Eligible]', '[Civil]',\n",
       "       '[Not Eligible]', '[Not Eligible]', '[Not Eligible]', '[Civil]',\n",
       "       '[Civil,Mech,Electrical]', '[Civil]', '[Civil,Mech,Electrical]',\n",
       "       '[Civil,Electrical]', '[Not Eligible]', '[Not Eligible]',\n",
       "       '[CS,Civil,Mech,Electronics,Electrical]', '[Not Eligible]',\n",
       "       '[Not Eligible]', '[Civil,Electrical]',\n",
       "       '[Civil,Mech,Electronics,Electrical]', '[Civil,Electrical]',\n",
       "       '[CS,Civil,Mech,Electronics,Electrical]', '[Not Eligible]',\n",
       "       '[Civil]', '[Civil,Mech,Electronics,Electrical]',\n",
       "       '[Civil,Mech,Electronics,Electrical]', '[Not Eligible]',\n",
       "       '[Civil,Mech,Electronics,Electrical]', '[Not Eligible]'],\n",
       "      dtype=object)"
      ]
     },
     "execution_count": 39,
     "metadata": {},
     "output_type": "execute_result"
    }
   ],
   "source": [
    "y_pred"
   ]
  },
  {
   "cell_type": "markdown",
   "id": "2533a4f0",
   "metadata": {},
   "source": [
    "# Creating confusion matrix"
   ]
  },
  {
   "cell_type": "code",
   "execution_count": 40,
   "id": "f7fa5417",
   "metadata": {},
   "outputs": [],
   "source": [
    "from sklearn.metrics import confusion_matrix  \n",
    "cm= confusion_matrix(y_test, y_pred) "
   ]
  },
  {
   "cell_type": "code",
   "execution_count": 41,
   "id": "dbda3328",
   "metadata": {},
   "outputs": [
    {
     "data": {
      "text/plain": [
       "array([[22,  0,  1,  2,  1,  3],\n",
       "       [ 0, 11,  3,  1,  0,  0],\n",
       "       [ 0,  0,  8,  2,  1,  1],\n",
       "       [ 2,  1,  2, 31,  2,  4],\n",
       "       [ 2,  3,  0,  0, 11,  3],\n",
       "       [ 2,  2,  5,  2,  5, 77]], dtype=int64)"
      ]
     },
     "execution_count": 41,
     "metadata": {},
     "output_type": "execute_result"
    }
   ],
   "source": [
    "cm"
   ]
  },
  {
   "cell_type": "code",
   "execution_count": 42,
   "id": "4cd7dd19",
   "metadata": {},
   "outputs": [],
   "source": [
    "from sklearn.metrics import accuracy_score, confusion_matrix, classification_report"
   ]
  },
  {
   "cell_type": "code",
   "execution_count": 43,
   "id": "49db395b",
   "metadata": {},
   "outputs": [],
   "source": [
    "accuracy = accuracy_score(y_test, test)"
   ]
  },
  {
   "cell_type": "code",
   "execution_count": 44,
   "id": "3efb99d5",
   "metadata": {},
   "outputs": [
    {
     "data": {
      "text/plain": [
       "0.24285714285714285"
      ]
     },
     "execution_count": 44,
     "metadata": {},
     "output_type": "execute_result"
    }
   ],
   "source": [
    "accuracy"
   ]
  },
  {
   "cell_type": "code",
   "execution_count": 45,
   "id": "bc3cd127",
   "metadata": {},
   "outputs": [
    {
     "name": "stdout",
     "output_type": "stream",
     "text": [
      "                                        precision    recall  f1-score   support\n",
      "\n",
      "[CS,Civil,Mech,Electronics,Electrical]       0.10      0.07      0.08        29\n",
      "                    [Civil,Electrical]       0.11      0.13      0.12        15\n",
      "               [Civil,Mech,Electrical]       0.05      0.08      0.06        12\n",
      "   [Civil,Mech,Electronics,Electrical]       0.19      0.17      0.18        42\n",
      "                               [Civil]       0.09      0.16      0.12        19\n",
      "                        [Not Eligible]       0.45      0.39      0.42        93\n",
      "\n",
      "                              accuracy                           0.24       210\n",
      "                             macro avg       0.16      0.17      0.16       210\n",
      "                          weighted avg       0.27      0.24      0.25       210\n",
      "\n"
     ]
    }
   ],
   "source": [
    "print(classification_report(y_test, test))"
   ]
  },
  {
   "cell_type": "markdown",
   "id": "8670a0be",
   "metadata": {},
   "source": [
    "# Naive Bayes"
   ]
  },
  {
   "cell_type": "code",
   "execution_count": 46,
   "id": "9661f8bf",
   "metadata": {},
   "outputs": [],
   "source": [
    "from sklearn.model_selection import train_test_split  \n",
    "x_train, x_test, y_train, y_test= train_test_split(X, y, test_size= 0.30, random_state=0)  "
   ]
  },
  {
   "cell_type": "code",
   "execution_count": 47,
   "id": "1f4ca5d7",
   "metadata": {},
   "outputs": [],
   "source": [
    "from sklearn.preprocessing import StandardScaler  \n",
    "from sklearn.ensemble import RandomForestClassifier\n",
    "sc = StandardScaler()  \n",
    "x_train = sc.fit_transform(x_train)  \n",
    "x_test = sc.transform(x_test)  "
   ]
  },
  {
   "cell_type": "code",
   "execution_count": 48,
   "id": "3ef2e6c7",
   "metadata": {},
   "outputs": [
    {
     "name": "stderr",
     "output_type": "stream",
     "text": [
      "C:\\Users\\vishn\\AppData\\Local\\Temp\\ipykernel_7440\\1006888206.py:3: DataConversionWarning: A column-vector y was passed when a 1d array was expected. Please change the shape of y to (n_samples,), for example using ravel().\n",
      "  classifier.fit(X_train, y_train)\n"
     ]
    },
    {
     "data": {
      "text/html": [
       "<style>#sk-container-id-3 {color: black;background-color: white;}#sk-container-id-3 pre{padding: 0;}#sk-container-id-3 div.sk-toggleable {background-color: white;}#sk-container-id-3 label.sk-toggleable__label {cursor: pointer;display: block;width: 100%;margin-bottom: 0;padding: 0.3em;box-sizing: border-box;text-align: center;}#sk-container-id-3 label.sk-toggleable__label-arrow:before {content: \"▸\";float: left;margin-right: 0.25em;color: #696969;}#sk-container-id-3 label.sk-toggleable__label-arrow:hover:before {color: black;}#sk-container-id-3 div.sk-estimator:hover label.sk-toggleable__label-arrow:before {color: black;}#sk-container-id-3 div.sk-toggleable__content {max-height: 0;max-width: 0;overflow: hidden;text-align: left;background-color: #f0f8ff;}#sk-container-id-3 div.sk-toggleable__content pre {margin: 0.2em;color: black;border-radius: 0.25em;background-color: #f0f8ff;}#sk-container-id-3 input.sk-toggleable__control:checked~div.sk-toggleable__content {max-height: 200px;max-width: 100%;overflow: auto;}#sk-container-id-3 input.sk-toggleable__control:checked~label.sk-toggleable__label-arrow:before {content: \"▾\";}#sk-container-id-3 div.sk-estimator input.sk-toggleable__control:checked~label.sk-toggleable__label {background-color: #d4ebff;}#sk-container-id-3 div.sk-label input.sk-toggleable__control:checked~label.sk-toggleable__label {background-color: #d4ebff;}#sk-container-id-3 input.sk-hidden--visually {border: 0;clip: rect(1px 1px 1px 1px);clip: rect(1px, 1px, 1px, 1px);height: 1px;margin: -1px;overflow: hidden;padding: 0;position: absolute;width: 1px;}#sk-container-id-3 div.sk-estimator {font-family: monospace;background-color: #f0f8ff;border: 1px dotted black;border-radius: 0.25em;box-sizing: border-box;margin-bottom: 0.5em;}#sk-container-id-3 div.sk-estimator:hover {background-color: #d4ebff;}#sk-container-id-3 div.sk-parallel-item::after {content: \"\";width: 100%;border-bottom: 1px solid gray;flex-grow: 1;}#sk-container-id-3 div.sk-label:hover label.sk-toggleable__label {background-color: #d4ebff;}#sk-container-id-3 div.sk-serial::before {content: \"\";position: absolute;border-left: 1px solid gray;box-sizing: border-box;top: 0;bottom: 0;left: 50%;z-index: 0;}#sk-container-id-3 div.sk-serial {display: flex;flex-direction: column;align-items: center;background-color: white;padding-right: 0.2em;padding-left: 0.2em;position: relative;}#sk-container-id-3 div.sk-item {position: relative;z-index: 1;}#sk-container-id-3 div.sk-parallel {display: flex;align-items: stretch;justify-content: center;background-color: white;position: relative;}#sk-container-id-3 div.sk-item::before, #sk-container-id-3 div.sk-parallel-item::before {content: \"\";position: absolute;border-left: 1px solid gray;box-sizing: border-box;top: 0;bottom: 0;left: 50%;z-index: -1;}#sk-container-id-3 div.sk-parallel-item {display: flex;flex-direction: column;z-index: 1;position: relative;background-color: white;}#sk-container-id-3 div.sk-parallel-item:first-child::after {align-self: flex-end;width: 50%;}#sk-container-id-3 div.sk-parallel-item:last-child::after {align-self: flex-start;width: 50%;}#sk-container-id-3 div.sk-parallel-item:only-child::after {width: 0;}#sk-container-id-3 div.sk-dashed-wrapped {border: 1px dashed gray;margin: 0 0.4em 0.5em 0.4em;box-sizing: border-box;padding-bottom: 0.4em;background-color: white;}#sk-container-id-3 div.sk-label label {font-family: monospace;font-weight: bold;display: inline-block;line-height: 1.2em;}#sk-container-id-3 div.sk-label-container {text-align: center;}#sk-container-id-3 div.sk-container {/* jupyter's `normalize.less` sets `[hidden] { display: none; }` but bootstrap.min.css set `[hidden] { display: none !important; }` so we also need the `!important` here to be able to override the default hidden behavior on the sphinx rendered scikit-learn.org. See: https://github.com/scikit-learn/scikit-learn/issues/21755 */display: inline-block !important;position: relative;}#sk-container-id-3 div.sk-text-repr-fallback {display: none;}</style><div id=\"sk-container-id-3\" class=\"sk-top-container\"><div class=\"sk-text-repr-fallback\"><pre>RandomForestClassifier(criterion=&#x27;entropy&#x27;, n_estimators=10, random_state=42)</pre><b>In a Jupyter environment, please rerun this cell to show the HTML representation or trust the notebook. <br />On GitHub, the HTML representation is unable to render, please try loading this page with nbviewer.org.</b></div><div class=\"sk-container\" hidden><div class=\"sk-item\"><div class=\"sk-estimator sk-toggleable\"><input class=\"sk-toggleable__control sk-hidden--visually\" id=\"sk-estimator-id-3\" type=\"checkbox\" checked><label for=\"sk-estimator-id-3\" class=\"sk-toggleable__label sk-toggleable__label-arrow\">RandomForestClassifier</label><div class=\"sk-toggleable__content\"><pre>RandomForestClassifier(criterion=&#x27;entropy&#x27;, n_estimators=10, random_state=42)</pre></div></div></div></div></div>"
      ],
      "text/plain": [
       "RandomForestClassifier(criterion='entropy', n_estimators=10, random_state=42)"
      ]
     },
     "execution_count": 48,
     "metadata": {},
     "output_type": "execute_result"
    }
   ],
   "source": [
    "# Fitting Random Forest Classification to the Training set\n",
    "classifier = RandomForestClassifier(n_estimators = 10, criterion = 'entropy', random_state = 42)\n",
    "classifier.fit(X_train, y_train)"
   ]
  },
  {
   "cell_type": "code",
   "execution_count": 49,
   "id": "b7a86df5",
   "metadata": {},
   "outputs": [],
   "source": [
    "from sklearn.metrics import accuracy_score, confusion_matrix, classification_report"
   ]
  },
  {
   "cell_type": "code",
   "execution_count": 50,
   "id": "36e6dee2",
   "metadata": {},
   "outputs": [],
   "source": [
    "accuracy = accuracy_score(y_test, test)"
   ]
  },
  {
   "cell_type": "code",
   "execution_count": 51,
   "id": "ad7cbfd1",
   "metadata": {},
   "outputs": [
    {
     "name": "stdout",
     "output_type": "stream",
     "text": [
      "0.24285714285714285\n"
     ]
    }
   ],
   "source": [
    "print(accuracy)"
   ]
  },
  {
   "cell_type": "code",
   "execution_count": null,
   "id": "af05af4b",
   "metadata": {},
   "outputs": [],
   "source": []
  },
  {
   "cell_type": "code",
   "execution_count": null,
   "id": "885fa852",
   "metadata": {},
   "outputs": [],
   "source": []
  },
  {
   "cell_type": "code",
   "execution_count": null,
   "id": "76402c2c",
   "metadata": {},
   "outputs": [],
   "source": []
  },
  {
   "cell_type": "code",
   "execution_count": null,
   "id": "c2796076",
   "metadata": {},
   "outputs": [],
   "source": []
  },
  {
   "cell_type": "code",
   "execution_count": null,
   "id": "cb58262e",
   "metadata": {},
   "outputs": [],
   "source": []
  }
 ],
 "metadata": {
  "kernelspec": {
   "display_name": "Python 3 (ipykernel)",
   "language": "python",
   "name": "python3"
  },
  "language_info": {
   "codemirror_mode": {
    "name": "ipython",
    "version": 3
   },
   "file_extension": ".py",
   "mimetype": "text/x-python",
   "name": "python",
   "nbconvert_exporter": "python",
   "pygments_lexer": "ipython3",
   "version": "3.9.8"
  }
 },
 "nbformat": 4,
 "nbformat_minor": 5
}
